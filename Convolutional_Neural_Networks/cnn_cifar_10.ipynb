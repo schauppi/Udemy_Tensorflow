{
 "cells": [
  {
   "cell_type": "markdown",
   "metadata": {
    "colab_type": "text",
    "id": "view-in-github"
   },
   "source": [
    "<a href=\"https://colab.research.google.com/github/schauppi/Udemy_Tensorflow/blob/schauppi/Convolutional_Neural_Networks/cnn_cifar_10.ipynb\" target=\"_parent\"><img src=\"https://colab.research.google.com/assets/colab-badge.svg\" alt=\"Open In Colab\"/></a>"
   ]
  },
  {
   "cell_type": "code",
   "execution_count": 22,
   "metadata": {
    "id": "1cw9hPLb_Rgi"
   },
   "outputs": [],
   "source": [
    "import tensorflow as tf\n",
    "from tensorflow import keras\n",
    "import numpy as np\n",
    "import matplotlib.pyplot as plt"
   ]
  },
  {
   "cell_type": "code",
   "execution_count": 14,
   "metadata": {
    "id": "RsyJJFf5_we6"
   },
   "outputs": [],
   "source": [
    "data = tf.keras.datasets.cifar10"
   ]
  },
  {
   "cell_type": "code",
   "execution_count": 15,
   "metadata": {
    "id": "C0EDFgGy_3Bu"
   },
   "outputs": [],
   "source": [
    "(x_train, y_train), (x_test, y_test) = data.load_data()"
   ]
  },
  {
   "cell_type": "code",
   "execution_count": 16,
   "metadata": {
    "colab": {
     "base_uri": "https://localhost:8080/"
    },
    "id": "cThSRDPn_-xk",
    "outputId": "ebe7a8af-b7e7-4d23-be7f-ad5996ccda6a"
   },
   "outputs": [
    {
     "name": "stdout",
     "output_type": "stream",
     "text": [
      "(50000, 32, 32, 3)\n",
      "(50000, 1)\n",
      "(10000, 32, 32, 3)\n",
      "(10000, 1)\n"
     ]
    }
   ],
   "source": [
    "print(x_train.shape)\n",
    "print(y_train.shape)\n",
    "print(x_test.shape)\n",
    "print(y_test.shape)"
   ]
  },
  {
   "cell_type": "code",
   "execution_count": 17,
   "metadata": {
    "id": "zjatscaNAVoh"
   },
   "outputs": [],
   "source": [
    "x_train, x_test = x_train / 255.0, x_test / 255.0"
   ]
  },
  {
   "cell_type": "code",
   "execution_count": 18,
   "metadata": {
    "id": "hccA25oGAdEr"
   },
   "outputs": [],
   "source": [
    "#convert from 5000,1 to 5000, array\n",
    "y_train, y_test = y_train.flatten(), y_test.flatten()"
   ]
  },
  {
   "cell_type": "code",
   "execution_count": 20,
   "metadata": {
    "colab": {
     "base_uri": "https://localhost:8080/"
    },
    "id": "hzneW0AOAnAr",
    "outputId": "a2eb0a24-8b2a-45cb-f005-0cb4777cb6d1"
   },
   "outputs": [
    {
     "name": "stdout",
     "output_type": "stream",
     "text": [
      "(50000,)\n",
      "(10000,)\n"
     ]
    }
   ],
   "source": [
    "print(y_train.shape)\n",
    "print(y_test.shape)"
   ]
  },
  {
   "cell_type": "code",
   "execution_count": 21,
   "metadata": {
    "colab": {
     "base_uri": "https://localhost:8080/"
    },
    "id": "VWd2XXWSBHQI",
    "outputId": "0ae27ace-292c-44eb-c571-a7c71354352d"
   },
   "outputs": [
    {
     "name": "stdout",
     "output_type": "stream",
     "text": [
      "(32, 32, 3)\n"
     ]
    }
   ],
   "source": [
    "input_data_shape = x_train[0].shape\n",
    "print(input_data_shape)"
   ]
  },
  {
   "cell_type": "code",
   "execution_count": 23,
   "metadata": {
    "colab": {
     "base_uri": "https://localhost:8080/"
    },
    "id": "lPTFIRFGBTWO",
    "outputId": "9a1bcd91-2ede-4e62-b7a4-5f2607c40f7d"
   },
   "outputs": [
    {
     "name": "stdout",
     "output_type": "stream",
     "text": [
      "10\n"
     ]
    }
   ],
   "source": [
    "classes = len(set(y_train))\n",
    "print(classes)"
   ]
  },
  {
   "cell_type": "code",
   "execution_count": 30,
   "metadata": {
    "id": "d29xiUEUBc_j"
   },
   "outputs": [],
   "source": [
    "i = keras.layers.Input(shape=input_data_shape)\n",
    "x = keras.layers.Conv2D(32, (3,3), strides=2, activation=\"relu\")(i)\n",
    "x = keras.layers.MaxPool2D(2,2)(x)\n",
    "x = keras.layers.Conv2D(64, (3,3), strides=2, activation=\"relu\")(x)\n",
    "#x = keras.layers.MaxPool2D(2,2)(x)\n",
    "x = keras.layers.Conv2D(128, (3,3), strides=2, activation=\"relu\")(x)\n",
    "#x = keras.layers.MaxPool2D(2,2)(x)\n",
    "x = keras.layers.Flatten()(x)\n",
    "x = keras.layers.Dropout(0.5)(x)\n",
    "x = keras.layers.Dense(512, activation=\"relu\")(x)\n",
    "x = keras.layers.Dropout(0.5)(x)\n",
    "x = keras.layers.Dense(256, activation=\"relu\")(x)\n",
    "x = keras.layers.Dropout(0.5)(x)\n",
    "x = keras.layers.Dense(128, activation=\"relu\")(x)\n",
    "x = keras.layers.Dropout(0.5)(x)\n",
    "x = keras.layers.Dense(64, activation=\"relu\")(x)\n",
    "x = keras.layers.Dense(classes, activation=\"softmax\")(x)\n",
    "\n",
    "model = keras.models.Model(i, x)"
   ]
  },
  {
   "cell_type": "code",
   "execution_count": 31,
   "metadata": {
    "colab": {
     "base_uri": "https://localhost:8080/"
    },
    "id": "Myy9EG-cCnR0",
    "outputId": "7d6046b0-be63-4f9a-ad3b-fc521a5a4b2f"
   },
   "outputs": [
    {
     "name": "stdout",
     "output_type": "stream",
     "text": [
      "Model: \"model_2\"\n",
      "_________________________________________________________________\n",
      "Layer (type)                 Output Shape              Param #   \n",
      "=================================================================\n",
      "input_5 (InputLayer)         [(None, 32, 32, 3)]       0         \n",
      "_________________________________________________________________\n",
      "conv2d_12 (Conv2D)           (None, 15, 15, 32)        896       \n",
      "_________________________________________________________________\n",
      "max_pooling2d_5 (MaxPooling2 (None, 7, 7, 32)          0         \n",
      "_________________________________________________________________\n",
      "conv2d_13 (Conv2D)           (None, 3, 3, 64)          18496     \n",
      "_________________________________________________________________\n",
      "conv2d_14 (Conv2D)           (None, 1, 1, 128)         73856     \n",
      "_________________________________________________________________\n",
      "flatten_2 (Flatten)          (None, 128)               0         \n",
      "_________________________________________________________________\n",
      "dropout_8 (Dropout)          (None, 128)               0         \n",
      "_________________________________________________________________\n",
      "dense_10 (Dense)             (None, 512)               66048     \n",
      "_________________________________________________________________\n",
      "dropout_9 (Dropout)          (None, 512)               0         \n",
      "_________________________________________________________________\n",
      "dense_11 (Dense)             (None, 256)               131328    \n",
      "_________________________________________________________________\n",
      "dropout_10 (Dropout)         (None, 256)               0         \n",
      "_________________________________________________________________\n",
      "dense_12 (Dense)             (None, 128)               32896     \n",
      "_________________________________________________________________\n",
      "dropout_11 (Dropout)         (None, 128)               0         \n",
      "_________________________________________________________________\n",
      "dense_13 (Dense)             (None, 64)                8256      \n",
      "_________________________________________________________________\n",
      "dense_14 (Dense)             (None, 10)                650       \n",
      "=================================================================\n",
      "Total params: 332,426\n",
      "Trainable params: 332,426\n",
      "Non-trainable params: 0\n",
      "_________________________________________________________________\n"
     ]
    }
   ],
   "source": [
    "model.summary()"
   ]
  },
  {
   "cell_type": "code",
   "execution_count": 34,
   "metadata": {
    "id": "ij6OKeTsCxBs"
   },
   "outputs": [],
   "source": [
    "model.compile(metrics=[\"accuracy\"], loss=\"sparse_categorical_crossentropy\", optimizer=\"adam\")"
   ]
  },
  {
   "cell_type": "code",
   "execution_count": 35,
   "metadata": {
    "colab": {
     "base_uri": "https://localhost:8080/"
    },
    "id": "QqT7UT4oDF0K",
    "outputId": "ad5e1449-b7a2-4c76-82b0-6acc61c8c9ae"
   },
   "outputs": [
    {
     "name": "stdout",
     "output_type": "stream",
     "text": [
      "Epoch 1/15\n",
      "1563/1563 [==============================] - 40s 6ms/step - loss: 2.0890 - accuracy: 0.1748 - val_loss: 1.6636 - val_accuracy: 0.3624\n",
      "Epoch 2/15\n",
      "1563/1563 [==============================] - 10s 6ms/step - loss: 1.7178 - accuracy: 0.3375 - val_loss: 1.5165 - val_accuracy: 0.4325\n",
      "Epoch 3/15\n",
      "1563/1563 [==============================] - 10s 6ms/step - loss: 1.6013 - accuracy: 0.4036 - val_loss: 1.4410 - val_accuracy: 0.4818\n",
      "Epoch 4/15\n",
      "1563/1563 [==============================] - 10s 6ms/step - loss: 1.5192 - accuracy: 0.4507 - val_loss: 1.3997 - val_accuracy: 0.4991\n",
      "Epoch 5/15\n",
      "1563/1563 [==============================] - 10s 6ms/step - loss: 1.4550 - accuracy: 0.4751 - val_loss: 1.3505 - val_accuracy: 0.5208\n",
      "Epoch 6/15\n",
      "1563/1563 [==============================] - 10s 6ms/step - loss: 1.4211 - accuracy: 0.4924 - val_loss: 1.3453 - val_accuracy: 0.5334\n",
      "Epoch 7/15\n",
      "1563/1563 [==============================] - 10s 6ms/step - loss: 1.3922 - accuracy: 0.5080 - val_loss: 1.3165 - val_accuracy: 0.5469\n",
      "Epoch 8/15\n",
      "1563/1563 [==============================] - 10s 6ms/step - loss: 1.3519 - accuracy: 0.5324 - val_loss: 1.2937 - val_accuracy: 0.5453\n",
      "Epoch 9/15\n",
      "1563/1563 [==============================] - 10s 6ms/step - loss: 1.3364 - accuracy: 0.5336 - val_loss: 1.2882 - val_accuracy: 0.5621\n",
      "Epoch 10/15\n",
      "1563/1563 [==============================] - 10s 6ms/step - loss: 1.3013 - accuracy: 0.5473 - val_loss: 1.2683 - val_accuracy: 0.5618\n",
      "Epoch 11/15\n",
      "1563/1563 [==============================] - 10s 6ms/step - loss: 1.3004 - accuracy: 0.5477 - val_loss: 1.2612 - val_accuracy: 0.5700\n",
      "Epoch 12/15\n",
      "1563/1563 [==============================] - 10s 6ms/step - loss: 1.2802 - accuracy: 0.5559 - val_loss: 1.3080 - val_accuracy: 0.5617\n",
      "Epoch 13/15\n",
      "1563/1563 [==============================] - 10s 6ms/step - loss: 1.2588 - accuracy: 0.5669 - val_loss: 1.2248 - val_accuracy: 0.5839\n",
      "Epoch 14/15\n",
      "1563/1563 [==============================] - 10s 6ms/step - loss: 1.2441 - accuracy: 0.5716 - val_loss: 1.2458 - val_accuracy: 0.5774\n",
      "Epoch 15/15\n",
      "1563/1563 [==============================] - 10s 6ms/step - loss: 1.2439 - accuracy: 0.5686 - val_loss: 1.2339 - val_accuracy: 0.5814\n"
     ]
    }
   ],
   "source": [
    "history = model.fit(x_train, y_train, validation_data=(x_test, y_test), epochs=15)"
   ]
  },
  {
   "cell_type": "code",
   "execution_count": 36,
   "metadata": {
    "colab": {
     "base_uri": "https://localhost:8080/",
     "height": 284
    },
    "id": "ogswvuWNDNd5",
    "outputId": "8e63ed0c-fa6c-4733-b31f-36f77a6227fd"
   },
   "outputs": [
    {
     "data": {
      "text/plain": [
       "<matplotlib.legend.Legend at 0x7f0eeff59550>"
      ]
     },
     "execution_count": 36,
     "metadata": {
      "tags": []
     },
     "output_type": "execute_result"
    },
    {
     "data": {
      "image/png": "[encoded data removed]",
      "text/plain": [
       "<Figure size 432x288 with 1 Axes>"
      ]
     },
     "metadata": {
      "needs_background": "light",
      "tags": []
     },
     "output_type": "display_data"
    }
   ],
   "source": [
    "plt.plot(history.history[\"loss\"], label=\"loss\")\n",
    "plt.plot(history.history[\"val_loss\"], label=\"val_loss\")\n",
    "plt.plot(history.history[\"accuracy\"], label=\"acc\")\n",
    "plt.plot(history.history[\"val_accuracy\"], label=\"val_acc\")\n",
    "plt.legend()"
   ]
  },
  {
   "cell_type": "code",
   "execution_count": 37,
   "metadata": {
    "id": "9qSK1xipEA64"
   },
   "outputs": [],
   "source": [
    "#confusion matrix\n",
    "from sklearn.metrics import confusion_matrix\n",
    "import itertools"
   ]
  },
  {
   "cell_type": "code",
   "execution_count": 40,
   "metadata": {
    "id": "dBXr3M0CEIMi"
   },
   "outputs": [],
   "source": [
    "def plot_confusion_matrix(cm, classes, title=\"confusion_matrix\", cmap=plt.cm.Blues):\n",
    "  plt.imshow(cm, interpolation=\"nearest\", cmap=cmap)\n",
    "  plt.title(title)\n",
    "  plt.colorbar()\n",
    "  tick_marks = np.arange(len(classes))\n",
    "  plt.xticks(tick_marks, classes, rotation=45)\n",
    "  plt.yticks(tick_marks, classes)\n",
    "\n",
    "  thresh = cm.max() / 2.\n",
    "  for i, j in itertools.product(range(cm.shape[0]), range(cm.shape[1])):\n",
    "    plt.text(j, i, format(cm[i, j]), horizontalalignment=\"center\", color=\"white\" if cm[i, j] > thresh else \"black\")\n",
    "\n",
    "  plt.tight_layout()\n",
    "  plt.ylabel(\"True label\")\n",
    "  plt.xlabel(\"Predicted label\")\n",
    "  plt.show()\n"
   ]
  },
  {
   "cell_type": "code",
   "execution_count": 41,
   "metadata": {
    "colab": {
     "base_uri": "https://localhost:8080/",
     "height": 311
    },
    "id": "JvvFuq2AFiOl",
    "outputId": "8d1e9a08-62d8-4458-9cea-ad865409aa09"
   },
   "outputs": [
    {
     "data": {
      "image/png": "[encoded data removed]",
      "text/plain": [
       "<Figure size 432x288 with 2 Axes>"
      ]
     },
     "metadata": {
      "needs_background": "light",
      "tags": []
     },
     "output_type": "display_data"
    }
   ],
   "source": [
    "p_test = model.predict(x_test).argmax(axis=1)\n",
    "cm = confusion_matrix(y_test, p_test)\n",
    "plot_confusion_matrix(cm, list(range(10)))"
   ]
  },
  {
   "cell_type": "code",
   "execution_count": 47,
   "metadata": {
    "id": "oeJqSYenGq6W"
   },
   "outputs": [],
   "source": [
    "labels = '''airplane\t\t\t\t\t\t\t\t\t\t\n",
    "automobile\t\t\t\t\t\t\t\t\t\t\n",
    "bird\t\t\t\t\t\t\t\t\t\t\n",
    "cat\t\t\t\t\t\t\t\t\t\t\n",
    "deer\t\t\t\t\t\t\t\t\t\t\n",
    "dog\t\t\t\t\t\t\t\t\t\t\n",
    "frog\t\t\t\t\t\t\t\t\t\t\n",
    "horse\t\t\t\t\t\t\t\t\t\t\n",
    "ship\t\t\t\t\t\t\t\t\t\t\n",
    "truck'''.split()"
   ]
  },
  {
   "cell_type": "code",
   "execution_count": 52,
   "metadata": {
    "colab": {
     "base_uri": "https://localhost:8080/",
     "height": 281
    },
    "id": "8PCNUEZqF0lR",
    "outputId": "dc0d138a-0a3f-4f50-87ce-7a3b183c5426"
   },
   "outputs": [
    {
     "data": {
      "image/png": "[encoded data removed]",
      "text/plain": [
       "<Figure size 432x288 with 1 Axes>"
      ]
     },
     "metadata": {
      "needs_background": "light",
      "tags": []
     },
     "output_type": "display_data"
    }
   ],
   "source": [
    "misclassified = np.where(p_test != y_test)[0]\n",
    "i = np.random.choice(misclassified)\n",
    "plt.imshow(x_test[i].reshape(32,32, 3))\n",
    "plt.title(\"Label: %s Predicted: %s\" % (labels[y_test[i]], labels[p_test[i]]));"
   ]
  }
 ],
 "metadata": {
  "accelerator": "GPU",
  "colab": {
   "authorship_tag": "ABX9TyMiKiZxgy4YFFJLlOlUKYSR",
   "include_colab_link": true,
   "name": "cnn_cifar_10.ipynb",
   "provenance": []
  },
  "kernelspec": {
   "display_name": "Python 3",
   "language": "python",
   "name": "python3"
  },
  "language_info": {
   "codemirror_mode": {
    "name": "ipython",
    "version": 3
   },
   "file_extension": ".py",
   "mimetype": "text/x-python",
   "name": "python",
   "nbconvert_exporter": "python",
   "pygments_lexer": "ipython3",
   "version": "3.7.9"
  }
 },
 "nbformat": 4,
 "nbformat_minor": 4
}
