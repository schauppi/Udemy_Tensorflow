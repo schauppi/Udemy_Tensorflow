{
  "nbformat": 4,
  "nbformat_minor": 0,
  "metadata": {
    "colab": {
      "name": "cnn_cifar_10_improved.ipynb",
      "provenance": [],
      "authorship_tag": "ABX9TyMSIES5fWyd7SQCmimAp9u1",
      "include_colab_link": true
    },
    "kernelspec": {
      "name": "python3",
      "display_name": "Python 3"
    },
    "language_info": {
      "name": "python"
    },
    "accelerator": "GPU"
  },
  "cells": [
    {
      "cell_type": "markdown",
      "metadata": {
        "id": "view-in-github",
        "colab_type": "text"
      },
      "source": [
        "<a href=\"https://colab.research.google.com/github/schauppi/Udemy_Tensorflow/blob/schauppi/Convolutional_Neural_Networks/cnn_cifar_10_improved.ipynb\" target=\"_parent\"><img src=\"https://colab.research.google.com/assets/colab-badge.svg\" alt=\"Open In Colab\"/></a>"
      ]
    },
    {
      "cell_type": "code",
      "metadata": {
        "id": "qofQPPw-zLrg"
      },
      "source": [
        "import tensorflow as tf\n",
        "from tensorflow import keras\n",
        "import numpy as np\n",
        "import matplotlib.pyplot as plt\n",
        "from tensorflow.keras.preprocessing.image import ImageDataGenerator"
      ],
      "execution_count": 20,
      "outputs": []
    },
    {
      "cell_type": "code",
      "metadata": {
        "id": "yAhmE0dazXEH"
      },
      "source": [
        "#load and split the data\n",
        "cifar10 = keras.datasets.cifar10\n",
        "(x_train, y_train), (x_test, y_test) = cifar10.load_data()"
      ],
      "execution_count": 13,
      "outputs": []
    },
    {
      "cell_type": "code",
      "metadata": {
        "id": "mlRWFpWB0tX7"
      },
      "source": [
        "y_train, y_test = y_train.flatten(), y_test.flatten()"
      ],
      "execution_count": 14,
      "outputs": []
    },
    {
      "cell_type": "code",
      "metadata": {
        "id": "c5mZHzGfzkfg"
      },
      "source": [
        "#standardization\n",
        "x_train, x_test = x_train/255.0, x_test/255.0"
      ],
      "execution_count": 15,
      "outputs": []
    },
    {
      "cell_type": "code",
      "metadata": {
        "id": "Gm8Sahc9zpAe",
        "outputId": "ec01aa3f-add7-4348-cb7f-994e5f07f79f",
        "colab": {
          "base_uri": "https://localhost:8080/"
        }
      },
      "source": [
        "num_classes = len(set(y_train))\n",
        "print(num_classes)"
      ],
      "execution_count": 16,
      "outputs": [
        {
          "output_type": "stream",
          "text": [
            "10\n"
          ],
          "name": "stdout"
        }
      ]
    },
    {
      "cell_type": "code",
      "metadata": {
        "id": "kOAA2K0A0MqI"
      },
      "source": [
        "i = keras.layers.Input(shape=x_train[0].shape)\n",
        "\n",
        "x = keras.layers.Conv2D(32, (3,3), activation=\"relu\", padding=\"same\")(i)\n",
        "x = keras.layers.BatchNormalization()(x)\n",
        "x = keras.layers.Conv2D(32, (3,3), activation=\"relu\", padding=\"same\")(x)\n",
        "x = keras.layers.BatchNormalization()(x)\n",
        "x = keras.layers.MaxPool2D(2,2)(x)\n",
        "\n",
        "x = keras.layers.Conv2D(64, (3,3), activation=\"relu\", padding=\"same\")(i)\n",
        "x = keras.layers.BatchNormalization()(x)\n",
        "x = keras.layers.Conv2D(64, (3,3), activation=\"relu\", padding=\"same\")(x)\n",
        "x = keras.layers.BatchNormalization()(x)\n",
        "x = keras.layers.MaxPool2D(2,2)(x)\n",
        "\n",
        "x = keras.layers.Conv2D(128, (3,3), activation=\"relu\", padding=\"same\")(i)\n",
        "x = keras.layers.BatchNormalization()(x)\n",
        "x = keras.layers.Conv2D(128, (3,3), activation=\"relu\", padding=\"same\")(x)\n",
        "x = keras.layers.BatchNormalization()(x)\n",
        "x = keras.layers.MaxPool2D(2,2)(x)\n",
        "\n",
        "x = keras.layers.Flatten()(x)\n",
        "x = keras.layers.Dropout(0.2)(x)\n",
        "x = keras.layers.Dense(1024, activation=\"relu\")(x)\n",
        "x = keras.layers.Dropout(0.2)(x)\n",
        "x = keras.layers.Dense(512, activation=\"relu\")(x)\n",
        "x = keras.layers.Dropout(0.2)(x)\n",
        "x = keras.layers.Dense(256, activation=\"relu\")(x)\n",
        "x = keras.layers.Dropout(0.2)(x)\n",
        "x = keras.layers.Dense(128, activation=\"relu\")(x)\n",
        "x = keras.layers.Dropout(0.2)(x)\n",
        "x = keras.layers.Dense(num_classes, activation=\"softmax\")(x)\n",
        "\n",
        "model = keras.models.Model(i, x)"
      ],
      "execution_count": 17,
      "outputs": []
    },
    {
      "cell_type": "code",
      "metadata": {
        "id": "DLB3ykgn2AxZ",
        "outputId": "37793128-69dc-4d2e-8d16-d8d5195637d8",
        "colab": {
          "base_uri": "https://localhost:8080/"
        }
      },
      "source": [
        "model.summary()"
      ],
      "execution_count": 18,
      "outputs": [
        {
          "output_type": "stream",
          "text": [
            "Model: \"model\"\n",
            "_________________________________________________________________\n",
            "Layer (type)                 Output Shape              Param #   \n",
            "=================================================================\n",
            "input_1 (InputLayer)         [(None, 32, 32, 3)]       0         \n",
            "_________________________________________________________________\n",
            "conv2d_4 (Conv2D)            (None, 32, 32, 128)       3584      \n",
            "_________________________________________________________________\n",
            "batch_normalization_4 (Batch (None, 32, 32, 128)       512       \n",
            "_________________________________________________________________\n",
            "conv2d_5 (Conv2D)            (None, 32, 32, 128)       147584    \n",
            "_________________________________________________________________\n",
            "batch_normalization_5 (Batch (None, 32, 32, 128)       512       \n",
            "_________________________________________________________________\n",
            "max_pooling2d_2 (MaxPooling2 (None, 16, 16, 128)       0         \n",
            "_________________________________________________________________\n",
            "flatten (Flatten)            (None, 32768)             0         \n",
            "_________________________________________________________________\n",
            "dropout (Dropout)            (None, 32768)             0         \n",
            "_________________________________________________________________\n",
            "dense (Dense)                (None, 1024)              33555456  \n",
            "_________________________________________________________________\n",
            "dropout_1 (Dropout)          (None, 1024)              0         \n",
            "_________________________________________________________________\n",
            "dense_1 (Dense)              (None, 512)               524800    \n",
            "_________________________________________________________________\n",
            "dropout_2 (Dropout)          (None, 512)               0         \n",
            "_________________________________________________________________\n",
            "dense_2 (Dense)              (None, 256)               131328    \n",
            "_________________________________________________________________\n",
            "dropout_3 (Dropout)          (None, 256)               0         \n",
            "_________________________________________________________________\n",
            "dense_3 (Dense)              (None, 128)               32896     \n",
            "_________________________________________________________________\n",
            "dropout_4 (Dropout)          (None, 128)               0         \n",
            "_________________________________________________________________\n",
            "dense_4 (Dense)              (None, 10)                1290      \n",
            "=================================================================\n",
            "Total params: 34,397,962\n",
            "Trainable params: 34,397,450\n",
            "Non-trainable params: 512\n",
            "_________________________________________________________________\n"
          ],
          "name": "stdout"
        }
      ]
    },
    {
      "cell_type": "code",
      "metadata": {
        "id": "vDWeUeIg2Ddh"
      },
      "source": [
        "model.compile(optimizer=\"adam\", loss=\"sparse_categorical_crossentropy\", metrics=\"accuracy\")"
      ],
      "execution_count": 25,
      "outputs": []
    },
    {
      "cell_type": "code",
      "metadata": {
        "id": "DSNF2Own2NDq"
      },
      "source": [
        "#fit model with image data generator\n",
        "batch_size = 32\n",
        "datagen = ImageDataGenerator(width_shift_range=0.1, height_shift_range=0.1, vertical_flip=True)\n",
        "train_gen = datagen.flow(x_train, y_train, batch_size)\n",
        "val_gen = datagen.flow(x_test, y_test, batch_size)\n",
        "steps_per_epoch = x_train.shape[0] // batch_size"
      ],
      "execution_count": 26,
      "outputs": []
    },
    {
      "cell_type": "code",
      "metadata": {
        "id": "Q-yF3wLE3HxX",
        "outputId": "ea9f2bd8-0606-4775-e17d-d5d92f866c1c",
        "colab": {
          "base_uri": "https://localhost:8080/"
        }
      },
      "source": [
        "history = model.fit_generator(train_gen, validation_data=(val_gen), steps_per_epoch=steps_per_epoch, epochs=50)"
      ],
      "execution_count": 27,
      "outputs": [
        {
          "output_type": "stream",
          "text": [
            "/usr/local/lib/python3.7/dist-packages/tensorflow/python/keras/engine/training.py:1844: UserWarning: `Model.fit_generator` is deprecated and will be removed in a future version. Please use `Model.fit`, which supports generators.\n",
            "  warnings.warn('`Model.fit_generator` is deprecated and '\n"
          ],
          "name": "stderr"
        },
        {
          "output_type": "stream",
          "text": [
            "Epoch 1/50\n",
            "1562/1562 [==============================] - 93s 40ms/step - loss: 2.5818 - accuracy: 0.2053 - val_loss: 1.8027 - val_accuracy: 0.3230\n",
            "Epoch 2/50\n",
            "1562/1562 [==============================] - 61s 39ms/step - loss: 1.7382 - accuracy: 0.3383 - val_loss: 1.6990 - val_accuracy: 0.3705\n",
            "Epoch 3/50\n",
            "1562/1562 [==============================] - 61s 39ms/step - loss: 1.5812 - accuracy: 0.4233 - val_loss: 1.5719 - val_accuracy: 0.4476\n",
            "Epoch 4/50\n",
            "1562/1562 [==============================] - 61s 39ms/step - loss: 1.4346 - accuracy: 0.4922 - val_loss: 1.4490 - val_accuracy: 0.4840\n",
            "Epoch 5/50\n",
            "1562/1562 [==============================] - 61s 39ms/step - loss: 1.3439 - accuracy: 0.5294 - val_loss: 1.3013 - val_accuracy: 0.5353\n",
            "Epoch 6/50\n",
            "1562/1562 [==============================] - 62s 39ms/step - loss: 1.3109 - accuracy: 0.5469 - val_loss: 1.1751 - val_accuracy: 0.5904\n",
            "Epoch 7/50\n",
            "1562/1562 [==============================] - 62s 40ms/step - loss: 1.2444 - accuracy: 0.5729 - val_loss: 1.2151 - val_accuracy: 0.5824\n",
            "Epoch 8/50\n",
            "1562/1562 [==============================] - 62s 40ms/step - loss: 1.2116 - accuracy: 0.5854 - val_loss: 1.1921 - val_accuracy: 0.5867\n",
            "Epoch 9/50\n",
            "1562/1562 [==============================] - 63s 40ms/step - loss: 1.1716 - accuracy: 0.6001 - val_loss: 1.6341 - val_accuracy: 0.4145\n",
            "Epoch 10/50\n",
            "1562/1562 [==============================] - 62s 40ms/step - loss: 1.1567 - accuracy: 0.6058 - val_loss: 1.1059 - val_accuracy: 0.6203\n",
            "Epoch 11/50\n",
            "1562/1562 [==============================] - 62s 40ms/step - loss: 1.1228 - accuracy: 0.6189 - val_loss: 1.1992 - val_accuracy: 0.6165\n",
            "Epoch 12/50\n",
            "1562/1562 [==============================] - 62s 40ms/step - loss: 1.0939 - accuracy: 0.6305 - val_loss: 1.2124 - val_accuracy: 0.5578\n",
            "Epoch 13/50\n",
            "1562/1562 [==============================] - 62s 40ms/step - loss: 1.0855 - accuracy: 0.6363 - val_loss: 0.9893 - val_accuracy: 0.6590\n",
            "Epoch 14/50\n",
            "1562/1562 [==============================] - 63s 40ms/step - loss: 1.0536 - accuracy: 0.6439 - val_loss: 1.0230 - val_accuracy: 0.6505\n",
            "Epoch 15/50\n",
            "1562/1562 [==============================] - 62s 40ms/step - loss: 1.0277 - accuracy: 0.6545 - val_loss: 1.0041 - val_accuracy: 0.6583\n",
            "Epoch 16/50\n",
            "1562/1562 [==============================] - 62s 40ms/step - loss: 1.0242 - accuracy: 0.6589 - val_loss: 1.1664 - val_accuracy: 0.5932\n",
            "Epoch 17/50\n",
            "1562/1562 [==============================] - 63s 40ms/step - loss: 1.0183 - accuracy: 0.6629 - val_loss: 1.0073 - val_accuracy: 0.6595\n",
            "Epoch 18/50\n",
            "1562/1562 [==============================] - 63s 40ms/step - loss: 0.9618 - accuracy: 0.6814 - val_loss: 0.9419 - val_accuracy: 0.6819\n",
            "Epoch 19/50\n",
            "1562/1562 [==============================] - 63s 40ms/step - loss: 0.9557 - accuracy: 0.6833 - val_loss: 1.0108 - val_accuracy: 0.6536\n",
            "Epoch 20/50\n",
            "1562/1562 [==============================] - 62s 40ms/step - loss: 0.9599 - accuracy: 0.6778 - val_loss: 0.9501 - val_accuracy: 0.6862\n",
            "Epoch 21/50\n",
            "1562/1562 [==============================] - 62s 40ms/step - loss: 0.9446 - accuracy: 0.6858 - val_loss: 1.0067 - val_accuracy: 0.6784\n",
            "Epoch 22/50\n",
            "1562/1562 [==============================] - 62s 40ms/step - loss: 0.9248 - accuracy: 0.6941 - val_loss: 0.9484 - val_accuracy: 0.6811\n",
            "Epoch 23/50\n",
            "1562/1562 [==============================] - 62s 40ms/step - loss: 0.9188 - accuracy: 0.6993 - val_loss: 0.9422 - val_accuracy: 0.6824\n",
            "Epoch 24/50\n",
            "1562/1562 [==============================] - 62s 40ms/step - loss: 0.9081 - accuracy: 0.6991 - val_loss: 1.0120 - val_accuracy: 0.6871\n",
            "Epoch 25/50\n",
            "1562/1562 [==============================] - 62s 40ms/step - loss: 0.8979 - accuracy: 0.7028 - val_loss: 0.9186 - val_accuracy: 0.6996\n",
            "Epoch 26/50\n",
            "1562/1562 [==============================] - 61s 39ms/step - loss: 0.8879 - accuracy: 0.7090 - val_loss: 0.9328 - val_accuracy: 0.6859\n",
            "Epoch 27/50\n",
            "1562/1562 [==============================] - 61s 39ms/step - loss: 0.8726 - accuracy: 0.7120 - val_loss: 1.1230 - val_accuracy: 0.6579\n",
            "Epoch 28/50\n",
            "1562/1562 [==============================] - 61s 39ms/step - loss: 0.8518 - accuracy: 0.7214 - val_loss: 0.9021 - val_accuracy: 0.6933\n",
            "Epoch 29/50\n",
            "1562/1562 [==============================] - 62s 40ms/step - loss: 0.8569 - accuracy: 0.7205 - val_loss: 0.9035 - val_accuracy: 0.7006\n",
            "Epoch 30/50\n",
            "1562/1562 [==============================] - 62s 40ms/step - loss: 0.8380 - accuracy: 0.7237 - val_loss: 0.9108 - val_accuracy: 0.7029\n",
            "Epoch 31/50\n",
            "1562/1562 [==============================] - 62s 39ms/step - loss: 0.8113 - accuracy: 0.7328 - val_loss: 0.8921 - val_accuracy: 0.6975\n",
            "Epoch 32/50\n",
            "1562/1562 [==============================] - 62s 40ms/step - loss: 0.8269 - accuracy: 0.7284 - val_loss: 0.9553 - val_accuracy: 0.6957\n",
            "Epoch 33/50\n",
            "1562/1562 [==============================] - 62s 40ms/step - loss: 0.7997 - accuracy: 0.7422 - val_loss: 0.9024 - val_accuracy: 0.7148\n",
            "Epoch 34/50\n",
            "1562/1562 [==============================] - 62s 40ms/step - loss: 0.7904 - accuracy: 0.7438 - val_loss: 0.9055 - val_accuracy: 0.7021\n",
            "Epoch 35/50\n",
            "1562/1562 [==============================] - 61s 39ms/step - loss: 0.7928 - accuracy: 0.7408 - val_loss: 0.9716 - val_accuracy: 0.6992\n",
            "Epoch 36/50\n",
            "1562/1562 [==============================] - 62s 40ms/step - loss: 0.7959 - accuracy: 0.7410 - val_loss: 0.8922 - val_accuracy: 0.7125\n",
            "Epoch 37/50\n",
            "1562/1562 [==============================] - 62s 39ms/step - loss: 0.7982 - accuracy: 0.7435 - val_loss: 0.8631 - val_accuracy: 0.7113\n",
            "Epoch 38/50\n",
            "1562/1562 [==============================] - 62s 40ms/step - loss: 0.7739 - accuracy: 0.7512 - val_loss: 0.9033 - val_accuracy: 0.7192\n",
            "Epoch 39/50\n",
            "1562/1562 [==============================] - 63s 40ms/step - loss: 0.7583 - accuracy: 0.7543 - val_loss: 0.9166 - val_accuracy: 0.7095\n",
            "Epoch 40/50\n",
            "1562/1562 [==============================] - 62s 40ms/step - loss: 0.7740 - accuracy: 0.7538 - val_loss: 0.8671 - val_accuracy: 0.7186\n",
            "Epoch 41/50\n",
            "1562/1562 [==============================] - 63s 40ms/step - loss: 0.7530 - accuracy: 0.7554 - val_loss: 0.9095 - val_accuracy: 0.7124\n",
            "Epoch 42/50\n",
            "1562/1562 [==============================] - 63s 40ms/step - loss: 0.7394 - accuracy: 0.7615 - val_loss: 0.9694 - val_accuracy: 0.7228\n",
            "Epoch 43/50\n",
            "1562/1562 [==============================] - 63s 40ms/step - loss: 0.7484 - accuracy: 0.7632 - val_loss: 0.8350 - val_accuracy: 0.7251\n",
            "Epoch 44/50\n",
            "1562/1562 [==============================] - 62s 40ms/step - loss: 0.7409 - accuracy: 0.7623 - val_loss: 0.8901 - val_accuracy: 0.6973\n",
            "Epoch 45/50\n",
            "1562/1562 [==============================] - 63s 40ms/step - loss: 0.7334 - accuracy: 0.7657 - val_loss: 0.8571 - val_accuracy: 0.7231\n",
            "Epoch 46/50\n",
            "1562/1562 [==============================] - 63s 40ms/step - loss: 0.7442 - accuracy: 0.7601 - val_loss: 0.8956 - val_accuracy: 0.7083\n",
            "Epoch 47/50\n",
            "1562/1562 [==============================] - 62s 40ms/step - loss: 0.7171 - accuracy: 0.7689 - val_loss: 0.8386 - val_accuracy: 0.7335\n",
            "Epoch 48/50\n",
            "1562/1562 [==============================] - 63s 40ms/step - loss: 0.7229 - accuracy: 0.7704 - val_loss: 0.8455 - val_accuracy: 0.7306\n",
            "Epoch 49/50\n",
            "1562/1562 [==============================] - 62s 40ms/step - loss: 0.7155 - accuracy: 0.7713 - val_loss: 0.8574 - val_accuracy: 0.7188\n",
            "Epoch 50/50\n",
            "1562/1562 [==============================] - 63s 40ms/step - loss: 0.7200 - accuracy: 0.7729 - val_loss: 0.9596 - val_accuracy: 0.6933\n"
          ],
          "name": "stdout"
        }
      ]
    },
    {
      "cell_type": "code",
      "metadata": {
        "id": "tOFVkEvD3ciF",
        "outputId": "d07039b4-d749-4e1c-8924-023c2a6a2a5d",
        "colab": {
          "base_uri": "https://localhost:8080/"
        }
      },
      "source": [
        "model.evaluate(x_test, y_test)"
      ],
      "execution_count": 28,
      "outputs": [
        {
          "output_type": "stream",
          "text": [
            "313/313 [==============================] - 3s 9ms/step - loss: 0.9020 - accuracy: 0.7191\n"
          ],
          "name": "stdout"
        },
        {
          "output_type": "execute_result",
          "data": {
            "text/plain": [
              "[0.9020168781280518, 0.7190999984741211]"
            ]
          },
          "metadata": {
            "tags": []
          },
          "execution_count": 28
        }
      ]
    },
    {
      "cell_type": "code",
      "metadata": {
        "id": "GpFOJJejDmGR",
        "outputId": "d8cabab3-5db0-45b2-9c5a-a42184782ded",
        "colab": {
          "base_uri": "https://localhost:8080/",
          "height": 282
        }
      },
      "source": [
        "plt.plot(history.history[\"loss\"], label=\"loss\")\n",
        "plt.plot(history.history[\"val_loss\"], label=\"val_loss\")\n",
        "plt.plot(history.history[\"accuracy\"], label=\"acc\")\n",
        "plt.plot(history.history[\"val_accuracy\"], label=\"val_acc\")\n",
        "plt.legend()"
      ],
      "execution_count": 29,
      "outputs": [
        {
          "output_type": "execute_result",
          "data": {
            "text/plain": [
              "<matplotlib.legend.Legend at 0x7fb1fc560a90>"
            ]
          },
          "metadata": {
            "tags": []
          },
          "execution_count": 29
        },
        {
          "output_type": "display_data",
          "data": {
            "image/png": "[encoded data removed]",
            "text/plain": [
              "<Figure size 432x288 with 1 Axes>"
            ]
          },
          "metadata": {
            "tags": [],
            "needs_background": "light"
          }
        }
      ]
    },
    {
      "cell_type": "code",
      "metadata": {
        "id": "Nm_KSokzEIih",
        "outputId": "fd01f919-e144-4000-b91c-2d3892e73496",
        "colab": {
          "base_uri": "https://localhost:8080/"
        }
      },
      "source": [
        "from sklearn.metrics import confusion_matrix\n",
        "p_test = model.predict(x_test).argmax(axis=1)\n",
        "cm = confusion_matrix(y_test, p_test)\n",
        "print(cm)"
      ],
      "execution_count": 37,
      "outputs": [
        {
          "output_type": "stream",
          "text": [
            "[[893  11   7   3   2   3   3   4  45  29]\n",
            " [ 17 875   0   3   0   0   4   1  21  79]\n",
            " [208  17 435 109  53  39  80  20  23  16]\n",
            " [ 73  17  30 498  38 147  95  30  24  48]\n",
            " [ 86   3  57  68 606  18  81  48  20  13]\n",
            " [ 37   6  12 240  30 587  27  29   9  23]\n",
            " [ 32  19  24  51   8   4 850   1   5   6]\n",
            " [ 70   0   9  47  39  47   7 742   9  30]\n",
            " [105  19   0   5   0   1   1   0 825  44]\n",
            " [ 30  60   2   4   0   0   0   4  20 880]]\n"
          ],
          "name": "stdout"
        }
      ]
    }
  ]
}