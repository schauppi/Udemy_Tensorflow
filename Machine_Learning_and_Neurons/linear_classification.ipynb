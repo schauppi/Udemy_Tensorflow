{
  "nbformat": 4,
  "nbformat_minor": 0,
  "metadata": {
    "colab": {
      "name": "linear_classification.ipynb",
      "provenance": [],
      "authorship_tag": "ABX9TyObFGo00hYnzClc1ugow8Sn",
      "include_colab_link": true
    },
    "kernelspec": {
      "name": "python3",
      "display_name": "Python 3"
    },
    "language_info": {
      "name": "python"
    },
    "accelerator": "GPU"
  },
  "cells": [
    {
      "cell_type": "markdown",
      "metadata": {
        "id": "view-in-github",
        "colab_type": "text"
      },
      "source": [
        "<a href=\"https://colab.research.google.com/github/schauppi/Udemy_Tensorflow/blob/schauppi/Machine_Learning_and_Neurons/linear_classification.ipynb\" target=\"_parent\"><img src=\"https://colab.research.google.com/assets/colab-badge.svg\" alt=\"Open In Colab\"/></a>"
      ]
    },
    {
      "cell_type": "code",
      "metadata": {
        "id": "aAxXpvwS0NM8"
      },
      "source": [
        "import tensorflow as tf\n",
        "from tensorflow import keras"
      ],
      "execution_count": 1,
      "outputs": []
    },
    {
      "cell_type": "code",
      "metadata": {
        "id": "XBl-OW6o0kGK"
      },
      "source": [
        "from sklearn.datasets import load_breast_cancer\n",
        "from sklearn.model_selection import train_test_split\n",
        "from sklearn.preprocessing import StandardScaler"
      ],
      "execution_count": 14,
      "outputs": []
    },
    {
      "cell_type": "code",
      "metadata": {
        "id": "baxAblkZ051F"
      },
      "source": [
        "data = load_breast_cancer()"
      ],
      "execution_count": 3,
      "outputs": []
    },
    {
      "cell_type": "code",
      "metadata": {
        "colab": {
          "base_uri": "https://localhost:8080/"
        },
        "id": "0tiHsXjp082I",
        "outputId": "fad1a98e-7d52-45fc-90c7-260ba173766e"
      },
      "source": [
        "for key, value in data.items() :\n",
        "    print (key)"
      ],
      "execution_count": 6,
      "outputs": [
        {
          "output_type": "stream",
          "text": [
            "data\n",
            "target\n",
            "target_names\n",
            "DESCR\n",
            "feature_names\n",
            "filename\n"
          ],
          "name": "stdout"
        }
      ]
    },
    {
      "cell_type": "code",
      "metadata": {
        "colab": {
          "base_uri": "https://localhost:8080/"
        },
        "id": "jKumtUjm09hr",
        "outputId": "b5f10713-cd77-4114-ec9f-222982f9f388"
      },
      "source": [
        "x_data = data[\"data\"]\n",
        "y_data = data[\"target\"]\n",
        "print(x_data.shape)\n",
        "print(y_data.shape)"
      ],
      "execution_count": 9,
      "outputs": [
        {
          "output_type": "stream",
          "text": [
            "(569, 30)\n",
            "(569,)\n"
          ],
          "name": "stdout"
        }
      ]
    },
    {
      "cell_type": "code",
      "metadata": {
        "id": "0_wDRfZu1WJn"
      },
      "source": [
        "x_train, x_test, y_train, y_test = train_test_split(x_data, y_data)"
      ],
      "execution_count": 20,
      "outputs": []
    },
    {
      "cell_type": "code",
      "metadata": {
        "colab": {
          "base_uri": "https://localhost:8080/"
        },
        "id": "Z5OGMlF81tDp",
        "outputId": "0c3770c1-2aba-4137-a85c-a24b7678ae28"
      },
      "source": [
        "print(x_train.shape)\n",
        "print(y_train.shape)\n",
        "print(x_test.shape)\n",
        "print(y_test.shape)\n",
        "print(x_train[0])"
      ],
      "execution_count": 21,
      "outputs": [
        {
          "output_type": "stream",
          "text": [
            "(426, 30)\n",
            "(426,)\n",
            "(143, 30)\n",
            "(143,)\n",
            "[1.747e+01 2.468e+01 1.161e+02 9.846e+02 1.049e-01 1.603e-01 2.159e-01\n",
            " 1.043e-01 1.538e-01 6.365e-02 1.088e+00 1.410e+00 7.337e+00 1.223e+02\n",
            " 6.174e-03 3.634e-02 4.644e-02 1.569e-02 1.145e-02 5.120e-03 2.314e+01\n",
            " 3.233e+01 1.553e+02 1.660e+03 1.376e-01 3.830e-01 4.890e-01 1.721e-01\n",
            " 2.160e-01 9.300e-02]\n"
          ],
          "name": "stdout"
        }
      ]
    },
    {
      "cell_type": "code",
      "metadata": {
        "id": "ueYF6SAi11f9"
      },
      "source": [
        "scaler = StandardScaler()\n",
        "x_train = scaler.fit_transform(x_train)\n",
        "x_test = scaler.transform(x_test)"
      ],
      "execution_count": 22,
      "outputs": []
    },
    {
      "cell_type": "code",
      "metadata": {
        "colab": {
          "base_uri": "https://localhost:8080/"
        },
        "id": "E9as20ff2a6L",
        "outputId": "f98a3386-e431-4624-bf41-dd7104a3eb78"
      },
      "source": [
        "print(x_train[0])\n",
        "input_shape = x_train[0].shape"
      ],
      "execution_count": 26,
      "outputs": [
        {
          "output_type": "stream",
          "text": [
            "[ 0.9240074   1.28096174  0.96889258  0.91030746  0.61580406  1.05679748\n",
            "  1.58818775  1.38251265 -1.00351781  0.18126171  2.42836202  0.37029818\n",
            "  2.21476218  1.87634222 -0.25086755  0.66347155  0.6102571   0.72242871\n",
            " -1.07460266  0.67697033  1.38391425  1.10828382  1.39346916  1.34995538\n",
            "  0.25351759  0.8034565   1.04801913  0.8476574  -1.19048541  0.54133454]\n"
          ],
          "name": "stdout"
        }
      ]
    },
    {
      "cell_type": "code",
      "metadata": {
        "id": "nc6ZPB_l3JFc"
      },
      "source": [
        "model = keras.models.Sequential([\n",
        "                                 keras.layers.Input(shape=input_shape),\n",
        "                                 keras.layers.Dense(128, activation=\"relu\"),\n",
        "                                 keras.layers.Dense(1, activation=\"sigmoid\")\n",
        "])"
      ],
      "execution_count": 27,
      "outputs": []
    },
    {
      "cell_type": "code",
      "metadata": {
        "id": "_beAenGC3jSP"
      },
      "source": [
        "model.compile(optimizer=\"adam\", loss=\"binary_crossentropy\", metrics=[\"accuracy\"])"
      ],
      "execution_count": 28,
      "outputs": []
    },
    {
      "cell_type": "code",
      "metadata": {
        "id": "xUYXTL183tMR"
      },
      "source": [
        "history = model.fit(x_train, y_train, validation_data=(x_test, y_test), epochs=50, verbose=0)"
      ],
      "execution_count": 40,
      "outputs": []
    },
    {
      "cell_type": "code",
      "metadata": {
        "colab": {
          "base_uri": "https://localhost:8080/"
        },
        "id": "DUlswcSP34FE",
        "outputId": "269cbd92-034c-4c32-9d07-bfe2cc0857f7"
      },
      "source": [
        "print(\"Train score: \", model.evaluate(x_train, y_train))\n",
        "print(\"Test score: \", model.evaluate(x_test, y_test))"
      ],
      "execution_count": 41,
      "outputs": [
        {
          "output_type": "stream",
          "text": [
            "14/14 [==============================] - 0s 2ms/step - loss: 0.0019 - accuracy: 1.0000\n",
            "Train score:  [0.0018813818460330367, 1.0]\n",
            "5/5 [==============================] - 0s 2ms/step - loss: 0.2099 - accuracy: 0.9790\n",
            "Test score:  [0.20990046858787537, 0.9790209531784058]\n"
          ],
          "name": "stdout"
        }
      ]
    },
    {
      "cell_type": "code",
      "metadata": {
        "id": "lRwvxQc14HWx"
      },
      "source": [
        "import matplotlib.pyplot as plt\n",
        "#history.history"
      ],
      "execution_count": 42,
      "outputs": []
    },
    {
      "cell_type": "code",
      "metadata": {
        "colab": {
          "base_uri": "https://localhost:8080/",
          "height": 282
        },
        "id": "y761ifAJ4Osp",
        "outputId": "6c4fb240-49cb-4c0c-a5b0-a8337d9c5243"
      },
      "source": [
        "plt.plot(history.history[\"loss\"], label=\"loss\")\n",
        "plt.plot(history.history[\"val_loss\"], label=\"val_loss\")\n",
        "plt.plot(history.history[\"val_accuracy\"], label=\"val_acc\")\n",
        "plt.plot(history.history[\"accuracy\"], label=\"acc\")"
      ],
      "execution_count": 43,
      "outputs": [
        {
          "output_type": "execute_result",
          "data": {
            "text/plain": [
              "[<matplotlib.lines.Line2D at 0x7f4f8a066a90>]"
            ]
          },
          "metadata": {
            "tags": []
          },
          "execution_count": 43
        },
        {
          "output_type": "display_data",
          "data": {
            "image/png": "[encoded data removed]",
            "text/plain": [
              "<Figure size 432x288 with 1 Axes>"
            ]
          },
          "metadata": {
            "tags": [],
            "needs_background": "light"
          }
        }
      ]
    }
  ]
}