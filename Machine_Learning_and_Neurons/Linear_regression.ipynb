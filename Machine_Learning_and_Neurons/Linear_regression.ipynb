{
  "nbformat": 4,
  "nbformat_minor": 0,
  "metadata": {
    "colab": {
      "name": "Linear_regression.ipynb",
      "provenance": [],
      "authorship_tag": "ABX9TyPzbAIJtPlO1j/19vVVoHxL",
      "include_colab_link": true
    },
    "kernelspec": {
      "name": "python3",
      "display_name": "Python 3"
    },
    "language_info": {
      "name": "python"
    },
    "accelerator": "GPU"
  },
  "cells": [
    {
      "cell_type": "markdown",
      "metadata": {
        "id": "view-in-github",
        "colab_type": "text"
      },
      "source": [
        "<a href=\"https://colab.research.google.com/github/schauppi/Udemy_Tensorflow/blob/schauppi/Machine_Learning_and_Neurons/Linear_regression.ipynb\" target=\"_parent\"><img src=\"https://colab.research.google.com/assets/colab-badge.svg\" alt=\"Open In Colab\"/></a>"
      ]
    },
    {
      "cell_type": "code",
      "metadata": {
        "id": "KVFYMeTPEvFs"
      },
      "source": [
        "import tensorflow as tf\n",
        "from tensorflow import keras\n",
        "import pandas as pd\n",
        "import matplotlib.pyplot as plt\n",
        "import numpy as np"
      ],
      "execution_count": 46,
      "outputs": []
    },
    {
      "cell_type": "code",
      "metadata": {
        "colab": {
          "base_uri": "https://localhost:8080/"
        },
        "id": "0LSz2BVgE1D8",
        "outputId": "f2410421-43f5-47c9-b7de-3774056bc370"
      },
      "source": [
        "!wget https://raw.githubusercontent.com/lazyprogrammer/machine_learning_examples/master/tf2.0/moore.csv"
      ],
      "execution_count": 2,
      "outputs": [
        {
          "output_type": "stream",
          "text": [
            "--2021-04-07 11:24:30--  https://raw.githubusercontent.com/lazyprogrammer/machine_learning_examples/master/tf2.0/moore.csv\n",
            "Resolving raw.githubusercontent.com (raw.githubusercontent.com)... 185.199.111.133, 185.199.109.133, 185.199.110.133, ...\n",
            "Connecting to raw.githubusercontent.com (raw.githubusercontent.com)|185.199.111.133|:443... connected.\n",
            "HTTP request sent, awaiting response... 200 OK\n",
            "Length: 2302 (2.2K) [text/plain]\n",
            "Saving to: ‘moore.csv’\n",
            "\n",
            "moore.csv           100%[===================>]   2.25K  --.-KB/s    in 0s      \n",
            "\n",
            "2021-04-07 11:24:30 (42.1 MB/s) - ‘moore.csv’ saved [2302/2302]\n",
            "\n"
          ],
          "name": "stdout"
        }
      ]
    },
    {
      "cell_type": "code",
      "metadata": {
        "id": "voXici88E5wS"
      },
      "source": [
        "data = pd.read_csv(\"moore.csv\", header=None).values"
      ],
      "execution_count": 54,
      "outputs": []
    },
    {
      "cell_type": "code",
      "metadata": {
        "id": "eD0YdbsAFDiF"
      },
      "source": [
        "x = data[:,0].reshape(-1,1)\n",
        "y = data[:,1]"
      ],
      "execution_count": 57,
      "outputs": []
    },
    {
      "cell_type": "code",
      "metadata": {
        "colab": {
          "base_uri": "https://localhost:8080/"
        },
        "id": "jseZzoCQFHnc",
        "outputId": "28994221-4811-49b4-c2ab-c789933c4cd7"
      },
      "source": [
        "print(x.shape)\n",
        "print(y.shape)\n",
        "print(x[:10])\n",
        "x = x - x.mean()"
      ],
      "execution_count": 67,
      "outputs": [
        {
          "output_type": "stream",
          "text": [
            "(162, 1)\n",
            "(162,)\n",
            "[[1971]\n",
            " [1972]\n",
            " [1973]\n",
            " [1973]\n",
            " [1974]\n",
            " [1974]\n",
            " [1974]\n",
            " [1975]\n",
            " [1976]\n",
            " [1976]]\n"
          ],
          "name": "stdout"
        }
      ]
    },
    {
      "cell_type": "code",
      "metadata": {
        "colab": {
          "base_uri": "https://localhost:8080/",
          "height": 293
        },
        "id": "jr0aDjCvF49B",
        "outputId": "47747480-7e15-4357-ae29-9d0b944fbc5a"
      },
      "source": [
        "plt.scatter(x, y)"
      ],
      "execution_count": 45,
      "outputs": [
        {
          "output_type": "execute_result",
          "data": {
            "text/plain": [
              "<matplotlib.collections.PathCollection at 0x7fc7c8617890>"
            ]
          },
          "metadata": {
            "tags": []
          },
          "execution_count": 45
        },
        {
          "output_type": "display_data",
          "data": {
            "image/png": "[encoded data removed]",
            "text/plain": [
              "<Figure size 432x288 with 1 Axes>"
            ]
          },
          "metadata": {
            "tags": [],
            "needs_background": "light"
          }
        }
      ]
    },
    {
      "cell_type": "code",
      "metadata": {
        "colab": {
          "base_uri": "https://localhost:8080/",
          "height": 282
        },
        "id": "n8y0rho_GX6M",
        "outputId": "1579d509-43c2-4d40-d42c-aff4c3db17f2"
      },
      "source": [
        "y = np.log(y)\n",
        "plt.scatter(x, y)"
      ],
      "execution_count": 47,
      "outputs": [
        {
          "output_type": "execute_result",
          "data": {
            "text/plain": [
              "<matplotlib.collections.PathCollection at 0x7fc7c84c77d0>"
            ]
          },
          "metadata": {
            "tags": []
          },
          "execution_count": 47
        },
        {
          "output_type": "display_data",
          "data": {
            "image/png": "[encoded data removed]",
            "text/plain": [
              "<Figure size 432x288 with 1 Axes>"
            ]
          },
          "metadata": {
            "tags": [],
            "needs_background": "light"
          }
        }
      ]
    },
    {
      "cell_type": "code",
      "metadata": {
        "id": "nnXhcdRqGf88"
      },
      "source": [
        "model = keras.models.Sequential([\n",
        "                                 keras.layers.Input(shape=(1,)),\n",
        "                                 keras.layers.Dense(512),\n",
        "                                 keras.layers.Dense(128),\n",
        "                                 keras.layers.Dense(1)\n",
        "])"
      ],
      "execution_count": 82,
      "outputs": []
    },
    {
      "cell_type": "code",
      "metadata": {
        "id": "HJ-uOTMAHdUp"
      },
      "source": [
        "model.compile(optimizer=\"adam\", loss=\"mse\")"
      ],
      "execution_count": 85,
      "outputs": []
    },
    {
      "cell_type": "code",
      "metadata": {
        "colab": {
          "base_uri": "https://localhost:8080/"
        },
        "id": "m6hk8OK-HjCh",
        "outputId": "27573288-43cf-4979-8d24-a5688dc0088a"
      },
      "source": [
        "history = model.fit(x, y, epochs=20, batch_size=1)"
      ],
      "execution_count": 86,
      "outputs": [
        {
          "output_type": "stream",
          "text": [
            "Epoch 1/20\n",
            "162/162 [==============================] - 1s 2ms/step - loss: nan\n",
            "Epoch 2/20\n",
            "162/162 [==============================] - 0s 2ms/step - loss: nan\n",
            "Epoch 3/20\n",
            "162/162 [==============================] - 0s 2ms/step - loss: nan\n",
            "Epoch 4/20\n",
            "162/162 [==============================] - 0s 2ms/step - loss: nan\n",
            "Epoch 5/20\n",
            "162/162 [==============================] - 0s 2ms/step - loss: nan\n",
            "Epoch 6/20\n",
            "162/162 [==============================] - 0s 2ms/step - loss: nan\n",
            "Epoch 7/20\n",
            "162/162 [==============================] - 0s 2ms/step - loss: nan\n",
            "Epoch 8/20\n",
            "162/162 [==============================] - 0s 2ms/step - loss: nan\n",
            "Epoch 9/20\n",
            "162/162 [==============================] - 0s 2ms/step - loss: nan\n",
            "Epoch 10/20\n",
            "162/162 [==============================] - 0s 2ms/step - loss: nan\n",
            "Epoch 11/20\n",
            "162/162 [==============================] - 0s 2ms/step - loss: nan\n",
            "Epoch 12/20\n",
            "162/162 [==============================] - 0s 2ms/step - loss: nan\n",
            "Epoch 13/20\n",
            "162/162 [==============================] - 0s 2ms/step - loss: nan\n",
            "Epoch 14/20\n",
            "162/162 [==============================] - 0s 2ms/step - loss: nan\n",
            "Epoch 15/20\n",
            "162/162 [==============================] - 0s 2ms/step - loss: nan\n",
            "Epoch 16/20\n",
            "162/162 [==============================] - 0s 2ms/step - loss: nan\n",
            "Epoch 17/20\n",
            "162/162 [==============================] - 0s 2ms/step - loss: nan\n",
            "Epoch 18/20\n",
            "162/162 [==============================] - 0s 2ms/step - loss: nan\n",
            "Epoch 19/20\n",
            "162/162 [==============================] - 0s 2ms/step - loss: nan\n",
            "Epoch 20/20\n",
            "162/162 [==============================] - 0s 2ms/step - loss: nan\n"
          ],
          "name": "stdout"
        }
      ]
    }
  ]
}