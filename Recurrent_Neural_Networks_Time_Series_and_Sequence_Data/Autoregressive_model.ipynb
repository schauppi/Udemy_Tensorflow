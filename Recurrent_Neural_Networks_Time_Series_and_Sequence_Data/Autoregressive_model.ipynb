{
  "nbformat": 4,
  "nbformat_minor": 0,
  "metadata": {
    "colab": {
      "name": "Autoregressive_model.ipynb",
      "provenance": [],
      "authorship_tag": "ABX9TyO3ypOLW45TtYe0580sAjmy",
      "include_colab_link": true
    },
    "kernelspec": {
      "name": "python3",
      "display_name": "Python 3"
    },
    "language_info": {
      "name": "python"
    },
    "accelerator": "GPU"
  },
  "cells": [
    {
      "cell_type": "markdown",
      "metadata": {
        "id": "view-in-github",
        "colab_type": "text"
      },
      "source": [
        "<a href=\"https://colab.research.google.com/github/schauppi/Udemy_Tensorflow/blob/schauppi/Recurrent_Neural_Networks_Time_Series_and_Sequence_Data/Autoregressive_model.ipynb\" target=\"_parent\"><img src=\"https://colab.research.google.com/assets/colab-badge.svg\" alt=\"Open In Colab\"/></a>"
      ]
    },
    {
      "cell_type": "code",
      "metadata": {
        "id": "Mwa2lBe3TNk5"
      },
      "source": [
        "import tensorflow as tf\n",
        "from tensorflow import keras\n",
        "import numpy as np\n",
        "import pandas as pd\n",
        "import matplotlib.pyplot as plt"
      ],
      "execution_count": 1,
      "outputs": []
    },
    {
      "cell_type": "code",
      "metadata": {
        "colab": {
          "base_uri": "https://localhost:8080/",
          "height": 265
        },
        "id": "_GAU14pMTX4D",
        "outputId": "e23cbbfa-f9db-4295-df91-a9682c87e701"
      },
      "source": [
        "#create synthetic dataset\n",
        "#series = np.sin(0.1*np.arange(200))\n",
        "series = np.sin(0.1*np.arange(200)) + np.random.randn(200)*0.1\n",
        "plt.plot(series)\n",
        "plt.show()"
      ],
      "execution_count": 38,
      "outputs": [
        {
          "output_type": "display_data",
          "data": {
            "image/png": "[encoded data removed]",
            "text/plain": [
              "<Figure size 432x288 with 1 Axes>"
            ]
          },
          "metadata": {
            "tags": [],
            "needs_background": "light"
          }
        }
      ]
    },
    {
      "cell_type": "code",
      "metadata": {
        "colab": {
          "base_uri": "https://localhost:8080/"
        },
        "id": "fp-1QSWsTpS1",
        "outputId": "ede6db57-6f89-4da4-9367-5f8b46d3681c"
      },
      "source": [
        "#build the dataset \n",
        "#T = 10 - use 10 previous timesteps to predict\n",
        "T = 10\n",
        "X = []\n",
        "Y = []\n",
        "for t in range(len(series)- T):\n",
        "  x = series[t:t+T]\n",
        "  X.append(x)\n",
        "  y = series[t+T]\n",
        "  Y.append(y)\n",
        "\n",
        "X = np.array(X).reshape(-1, T)\n",
        "Y = np.array(Y)\n",
        "N = len(X)\n",
        "print(\"NxT\", X.shape)\n",
        "print(\"N\", Y.shape)"
      ],
      "execution_count": 39,
      "outputs": [
        {
          "output_type": "stream",
          "text": [
            "NxT (190, 10)\n",
            "N (190,)\n"
          ],
          "name": "stdout"
        }
      ]
    },
    {
      "cell_type": "code",
      "metadata": {
        "colab": {
          "base_uri": "https://localhost:8080/"
        },
        "id": "A3-UI0E6T-DQ",
        "outputId": "758fb088-da7d-42cc-e9cf-4d003e22faf0"
      },
      "source": [
        "print(X[0])\n",
        "print(Y[0])"
      ],
      "execution_count": 40,
      "outputs": [
        {
          "output_type": "stream",
          "text": [
            "[0.0259961  0.12835998 0.07195333 0.4594123  0.38685364 0.63276171\n",
            " 0.42385944 0.64623189 0.60985174 0.73996998]\n",
            "0.8486084733217406\n"
          ],
          "name": "stdout"
        }
      ]
    },
    {
      "cell_type": "code",
      "metadata": {
        "colab": {
          "base_uri": "https://localhost:8080/"
        },
        "id": "zjuXK3FtVbMV",
        "outputId": "50b463b5-85a0-4c9d-b22f-eb9bc242e7a2"
      },
      "source": [
        "print(X[1])\n",
        "print(Y[1])"
      ],
      "execution_count": 41,
      "outputs": [
        {
          "output_type": "stream",
          "text": [
            "[0.12835998 0.07195333 0.4594123  0.38685364 0.63276171 0.42385944\n",
            " 0.64623189 0.60985174 0.73996998 0.84860847]\n",
            "0.9742841896023838\n"
          ],
          "name": "stdout"
        }
      ]
    },
    {
      "cell_type": "code",
      "metadata": {
        "colab": {
          "base_uri": "https://localhost:8080/"
        },
        "id": "jUlpNwhXVlZM",
        "outputId": "a6f2ddfd-676c-4a62-b296-cbcfe4e0d388"
      },
      "source": [
        "print(X[2])\n",
        "print(Y[2])"
      ],
      "execution_count": 42,
      "outputs": [
        {
          "output_type": "stream",
          "text": [
            "[0.07195333 0.4594123  0.38685364 0.63276171 0.42385944 0.64623189\n",
            " 0.60985174 0.73996998 0.84860847 0.97428419]\n",
            "0.824693599343465\n"
          ],
          "name": "stdout"
        }
      ]
    },
    {
      "cell_type": "code",
      "metadata": {
        "id": "ubExgKMmV13t"
      },
      "source": [
        "#autoregressive linear model\n",
        "i = keras.layers.Input(shape=(T,))\n",
        "x = keras.layers.Dense(1)(i)\n",
        "model = keras.models.Model(i, x)"
      ],
      "execution_count": 43,
      "outputs": []
    },
    {
      "cell_type": "code",
      "metadata": {
        "colab": {
          "base_uri": "https://localhost:8080/"
        },
        "id": "VsPEigQbWYUs",
        "outputId": "97e6f94f-1ae2-45cb-e0a2-ff2505f4b01e"
      },
      "source": [
        "model.summary()"
      ],
      "execution_count": 44,
      "outputs": [
        {
          "output_type": "stream",
          "text": [
            "Model: \"model_1\"\n",
            "_________________________________________________________________\n",
            "Layer (type)                 Output Shape              Param #   \n",
            "=================================================================\n",
            "input_2 (InputLayer)         [(None, 10)]              0         \n",
            "_________________________________________________________________\n",
            "dense_1 (Dense)              (None, 1)                 11        \n",
            "=================================================================\n",
            "Total params: 11\n",
            "Trainable params: 11\n",
            "Non-trainable params: 0\n",
            "_________________________________________________________________\n"
          ],
          "name": "stdout"
        }
      ]
    },
    {
      "cell_type": "code",
      "metadata": {
        "id": "Ol7S4JZBWanW"
      },
      "source": [
        "optimizer = keras.optimizers.Adam(lr=0.1)\n",
        "model.compile(loss=\"mse\", optimizer=optimizer)"
      ],
      "execution_count": 45,
      "outputs": []
    },
    {
      "cell_type": "code",
      "metadata": {
        "colab": {
          "base_uri": "https://localhost:8080/"
        },
        "id": "OmSg0-FmWlki",
        "outputId": "0cc0c7bb-d7e4-483b-de91-cc1e1282ee95"
      },
      "source": [
        "history = model.fit(X[:-N//2], Y[:-N//2], \n",
        "                    epochs=80, validation_data=(X[-N//2:], Y[-N//2:]))"
      ],
      "execution_count": 46,
      "outputs": [
        {
          "output_type": "stream",
          "text": [
            "Epoch 1/80\n",
            "3/3 [==============================] - 0s 72ms/step - loss: 0.2400 - val_loss: 0.0851\n",
            "Epoch 2/80\n",
            "3/3 [==============================] - 0s 21ms/step - loss: 0.0984 - val_loss: 0.0972\n",
            "Epoch 3/80\n",
            "3/3 [==============================] - 0s 28ms/step - loss: 0.0604 - val_loss: 0.0787\n",
            "Epoch 4/80\n",
            "3/3 [==============================] - 0s 25ms/step - loss: 0.0748 - val_loss: 0.0503\n",
            "Epoch 5/80\n",
            "3/3 [==============================] - 0s 24ms/step - loss: 0.0519 - val_loss: 0.0700\n",
            "Epoch 6/80\n",
            "3/3 [==============================] - 0s 21ms/step - loss: 0.0576 - val_loss: 0.0504\n",
            "Epoch 7/80\n",
            "3/3 [==============================] - 0s 22ms/step - loss: 0.0491 - val_loss: 0.0462\n",
            "Epoch 8/80\n",
            "3/3 [==============================] - 0s 29ms/step - loss: 0.0337 - val_loss: 0.0481\n",
            "Epoch 9/80\n",
            "3/3 [==============================] - 0s 24ms/step - loss: 0.0385 - val_loss: 0.0369\n",
            "Epoch 10/80\n",
            "3/3 [==============================] - 0s 25ms/step - loss: 0.0315 - val_loss: 0.0359\n",
            "Epoch 11/80\n",
            "3/3 [==============================] - 0s 22ms/step - loss: 0.0283 - val_loss: 0.0362\n",
            "Epoch 12/80\n",
            "3/3 [==============================] - 0s 20ms/step - loss: 0.0249 - val_loss: 0.0344\n",
            "Epoch 13/80\n",
            "3/3 [==============================] - 0s 21ms/step - loss: 0.0219 - val_loss: 0.0332\n",
            "Epoch 14/80\n",
            "3/3 [==============================] - 0s 20ms/step - loss: 0.0248 - val_loss: 0.0319\n",
            "Epoch 15/80\n",
            "3/3 [==============================] - 0s 21ms/step - loss: 0.0212 - val_loss: 0.0322\n",
            "Epoch 16/80\n",
            "3/3 [==============================] - 0s 22ms/step - loss: 0.0234 - val_loss: 0.0304\n",
            "Epoch 17/80\n",
            "3/3 [==============================] - 0s 21ms/step - loss: 0.0235 - val_loss: 0.0295\n",
            "Epoch 18/80\n",
            "3/3 [==============================] - 0s 23ms/step - loss: 0.0209 - val_loss: 0.0290\n",
            "Epoch 19/80\n",
            "3/3 [==============================] - 0s 23ms/step - loss: 0.0195 - val_loss: 0.0291\n",
            "Epoch 20/80\n",
            "3/3 [==============================] - 0s 23ms/step - loss: 0.0220 - val_loss: 0.0270\n",
            "Epoch 21/80\n",
            "3/3 [==============================] - 0s 21ms/step - loss: 0.0193 - val_loss: 0.0268\n",
            "Epoch 22/80\n",
            "3/3 [==============================] - 0s 24ms/step - loss: 0.0175 - val_loss: 0.0268\n",
            "Epoch 23/80\n",
            "3/3 [==============================] - 0s 22ms/step - loss: 0.0204 - val_loss: 0.0254\n",
            "Epoch 24/80\n",
            "3/3 [==============================] - 0s 22ms/step - loss: 0.0184 - val_loss: 0.0247\n",
            "Epoch 25/80\n",
            "3/3 [==============================] - 0s 21ms/step - loss: 0.0203 - val_loss: 0.0241\n",
            "Epoch 26/80\n",
            "3/3 [==============================] - 0s 22ms/step - loss: 0.0175 - val_loss: 0.0243\n",
            "Epoch 27/80\n",
            "3/3 [==============================] - 0s 22ms/step - loss: 0.0189 - val_loss: 0.0236\n",
            "Epoch 28/80\n",
            "3/3 [==============================] - 0s 24ms/step - loss: 0.0171 - val_loss: 0.0227\n",
            "Epoch 29/80\n",
            "3/3 [==============================] - 0s 24ms/step - loss: 0.0151 - val_loss: 0.0221\n",
            "Epoch 30/80\n",
            "3/3 [==============================] - 0s 21ms/step - loss: 0.0165 - val_loss: 0.0216\n",
            "Epoch 31/80\n",
            "3/3 [==============================] - 0s 24ms/step - loss: 0.0156 - val_loss: 0.0212\n",
            "Epoch 32/80\n",
            "3/3 [==============================] - 0s 22ms/step - loss: 0.0144 - val_loss: 0.0215\n",
            "Epoch 33/80\n",
            "3/3 [==============================] - 0s 22ms/step - loss: 0.0155 - val_loss: 0.0208\n",
            "Epoch 34/80\n",
            "3/3 [==============================] - 0s 23ms/step - loss: 0.0148 - val_loss: 0.0204\n",
            "Epoch 35/80\n",
            "3/3 [==============================] - 0s 21ms/step - loss: 0.0130 - val_loss: 0.0201\n",
            "Epoch 36/80\n",
            "3/3 [==============================] - 0s 21ms/step - loss: 0.0146 - val_loss: 0.0199\n",
            "Epoch 37/80\n",
            "3/3 [==============================] - 0s 22ms/step - loss: 0.0129 - val_loss: 0.0197\n",
            "Epoch 38/80\n",
            "3/3 [==============================] - 0s 21ms/step - loss: 0.0144 - val_loss: 0.0195\n",
            "Epoch 39/80\n",
            "3/3 [==============================] - 0s 22ms/step - loss: 0.0154 - val_loss: 0.0190\n",
            "Epoch 40/80\n",
            "3/3 [==============================] - 0s 21ms/step - loss: 0.0133 - val_loss: 0.0189\n",
            "Epoch 41/80\n",
            "3/3 [==============================] - 0s 21ms/step - loss: 0.0149 - val_loss: 0.0185\n",
            "Epoch 42/80\n",
            "3/3 [==============================] - 0s 21ms/step - loss: 0.0127 - val_loss: 0.0184\n",
            "Epoch 43/80\n",
            "3/3 [==============================] - 0s 23ms/step - loss: 0.0127 - val_loss: 0.0182\n",
            "Epoch 44/80\n",
            "3/3 [==============================] - 0s 21ms/step - loss: 0.0133 - val_loss: 0.0181\n",
            "Epoch 45/80\n",
            "3/3 [==============================] - 0s 21ms/step - loss: 0.0136 - val_loss: 0.0181\n",
            "Epoch 46/80\n",
            "3/3 [==============================] - 0s 22ms/step - loss: 0.0129 - val_loss: 0.0179\n",
            "Epoch 47/80\n",
            "3/3 [==============================] - 0s 22ms/step - loss: 0.0125 - val_loss: 0.0178\n",
            "Epoch 48/80\n",
            "3/3 [==============================] - 0s 27ms/step - loss: 0.0144 - val_loss: 0.0177\n",
            "Epoch 49/80\n",
            "3/3 [==============================] - 0s 22ms/step - loss: 0.0144 - val_loss: 0.0175\n",
            "Epoch 50/80\n",
            "3/3 [==============================] - 0s 22ms/step - loss: 0.0139 - val_loss: 0.0184\n",
            "Epoch 51/80\n",
            "3/3 [==============================] - 0s 22ms/step - loss: 0.0115 - val_loss: 0.0183\n",
            "Epoch 52/80\n",
            "3/3 [==============================] - 0s 24ms/step - loss: 0.0144 - val_loss: 0.0179\n",
            "Epoch 53/80\n",
            "3/3 [==============================] - 0s 23ms/step - loss: 0.0118 - val_loss: 0.0191\n",
            "Epoch 54/80\n",
            "3/3 [==============================] - 0s 22ms/step - loss: 0.0149 - val_loss: 0.0196\n",
            "Epoch 55/80\n",
            "3/3 [==============================] - 0s 21ms/step - loss: 0.0150 - val_loss: 0.0176\n",
            "Epoch 56/80\n",
            "3/3 [==============================] - 0s 24ms/step - loss: 0.0125 - val_loss: 0.0177\n",
            "Epoch 57/80\n",
            "3/3 [==============================] - 0s 24ms/step - loss: 0.0154 - val_loss: 0.0170\n",
            "Epoch 58/80\n",
            "3/3 [==============================] - 0s 24ms/step - loss: 0.0136 - val_loss: 0.0171\n",
            "Epoch 59/80\n",
            "3/3 [==============================] - 0s 23ms/step - loss: 0.0135 - val_loss: 0.0172\n",
            "Epoch 60/80\n",
            "3/3 [==============================] - 0s 22ms/step - loss: 0.0128 - val_loss: 0.0168\n",
            "Epoch 61/80\n",
            "3/3 [==============================] - 0s 23ms/step - loss: 0.0125 - val_loss: 0.0166\n",
            "Epoch 62/80\n",
            "3/3 [==============================] - 0s 22ms/step - loss: 0.0114 - val_loss: 0.0168\n",
            "Epoch 63/80\n",
            "3/3 [==============================] - 0s 24ms/step - loss: 0.0114 - val_loss: 0.0180\n",
            "Epoch 64/80\n",
            "3/3 [==============================] - 0s 24ms/step - loss: 0.0123 - val_loss: 0.0170\n",
            "Epoch 65/80\n",
            "3/3 [==============================] - 0s 22ms/step - loss: 0.0108 - val_loss: 0.0176\n",
            "Epoch 66/80\n",
            "3/3 [==============================] - 0s 25ms/step - loss: 0.0126 - val_loss: 0.0166\n",
            "Epoch 67/80\n",
            "3/3 [==============================] - 0s 22ms/step - loss: 0.0118 - val_loss: 0.0165\n",
            "Epoch 68/80\n",
            "3/3 [==============================] - 0s 21ms/step - loss: 0.0133 - val_loss: 0.0165\n",
            "Epoch 69/80\n",
            "3/3 [==============================] - 0s 22ms/step - loss: 0.0131 - val_loss: 0.0179\n",
            "Epoch 70/80\n",
            "3/3 [==============================] - 0s 23ms/step - loss: 0.0138 - val_loss: 0.0174\n",
            "Epoch 71/80\n",
            "3/3 [==============================] - 0s 23ms/step - loss: 0.0120 - val_loss: 0.0169\n",
            "Epoch 72/80\n",
            "3/3 [==============================] - 0s 26ms/step - loss: 0.0115 - val_loss: 0.0167\n",
            "Epoch 73/80\n",
            "3/3 [==============================] - 0s 23ms/step - loss: 0.0120 - val_loss: 0.0166\n",
            "Epoch 74/80\n",
            "3/3 [==============================] - 0s 23ms/step - loss: 0.0131 - val_loss: 0.0186\n",
            "Epoch 75/80\n",
            "3/3 [==============================] - 0s 22ms/step - loss: 0.0143 - val_loss: 0.0171\n",
            "Epoch 76/80\n",
            "3/3 [==============================] - 0s 22ms/step - loss: 0.0122 - val_loss: 0.0168\n",
            "Epoch 77/80\n",
            "3/3 [==============================] - 0s 22ms/step - loss: 0.0119 - val_loss: 0.0172\n",
            "Epoch 78/80\n",
            "3/3 [==============================] - 0s 23ms/step - loss: 0.0126 - val_loss: 0.0174\n",
            "Epoch 79/80\n",
            "3/3 [==============================] - 0s 22ms/step - loss: 0.0138 - val_loss: 0.0166\n",
            "Epoch 80/80\n",
            "3/3 [==============================] - 0s 22ms/step - loss: 0.0131 - val_loss: 0.0162\n"
          ],
          "name": "stdout"
        }
      ]
    },
    {
      "cell_type": "code",
      "metadata": {
        "colab": {
          "base_uri": "https://localhost:8080/",
          "height": 282
        },
        "id": "i7yNjzOMWybC",
        "outputId": "6856332d-0a4a-4479-892f-767b9216633b"
      },
      "source": [
        "plt.plot(history.history[\"loss\"], label=\"loss\")\n",
        "plt.plot(history.history[\"val_loss\"], label=\"val_loss\")\n",
        "plt.legend()"
      ],
      "execution_count": 47,
      "outputs": [
        {
          "output_type": "execute_result",
          "data": {
            "text/plain": [
              "<matplotlib.legend.Legend at 0x7f15992da1d0>"
            ]
          },
          "metadata": {
            "tags": []
          },
          "execution_count": 47
        },
        {
          "output_type": "display_data",
          "data": {
            "image/png": "[encoded data removed]",
            "text/plain": [
              "<Figure size 432x288 with 1 Axes>"
            ]
          },
          "metadata": {
            "tags": [],
            "needs_background": "light"
          }
        }
      ]
    },
    {
      "cell_type": "code",
      "metadata": {
        "id": "Jvp5qcQSXjHU"
      },
      "source": [
        "#forecasting values\n",
        "validation_target = Y[-N//2:]\n",
        "validation_predictions = []\n",
        "\n",
        "#last train input\n",
        "last_x = X[-N//2] #1-D array of length T\n",
        "while len(validation_predictions) < len(validation_target):\n",
        "  p = model.predict(last_x.reshape(1, -1))[0,0] #1x1 array\n",
        "\n",
        "  validation_predictions.append(p)\n",
        "\n",
        "  #new input\n",
        "  last_x = np.roll(last_x, -1)\n",
        "  last_x[-1] = p"
      ],
      "execution_count": 48,
      "outputs": []
    },
    {
      "cell_type": "code",
      "metadata": {
        "colab": {
          "base_uri": "https://localhost:8080/",
          "height": 282
        },
        "id": "Rn8jVtl-Ymxa",
        "outputId": "98712b40-0b18-4ae7-829d-5bc0eac28733"
      },
      "source": [
        "plt.plot(validation_target, label=\"forecast target\")\n",
        "plt.plot(validation_predictions, label=\"forecast prediction\")\n",
        "plt.legend()"
      ],
      "execution_count": 49,
      "outputs": [
        {
          "output_type": "execute_result",
          "data": {
            "text/plain": [
              "<matplotlib.legend.Legend at 0x7f1598021650>"
            ]
          },
          "metadata": {
            "tags": []
          },
          "execution_count": 49
        },
        {
          "output_type": "display_data",
          "data": {
            "image/png": "[encoded data removed]",
            "text/plain": [
              "<Figure size 432x288 with 1 Axes>"
            ]
          },
          "metadata": {
            "tags": [],
            "needs_background": "light"
          }
        }
      ]
    }
  ]
}