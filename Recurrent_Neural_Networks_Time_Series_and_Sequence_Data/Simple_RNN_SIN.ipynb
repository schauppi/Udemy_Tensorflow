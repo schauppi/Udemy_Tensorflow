{
  "nbformat": 4,
  "nbformat_minor": 0,
  "metadata": {
    "colab": {
      "name": "Simple_RNN_SIN.ipynb",
      "provenance": [],
      "authorship_tag": "ABX9TyPup6UPptRxLVFBQjbR/baE",
      "include_colab_link": true
    },
    "kernelspec": {
      "name": "python3",
      "display_name": "Python 3"
    },
    "language_info": {
      "name": "python"
    },
    "accelerator": "GPU"
  },
  "cells": [
    {
      "cell_type": "markdown",
      "metadata": {
        "id": "view-in-github",
        "colab_type": "text"
      },
      "source": [
        "<a href=\"https://colab.research.google.com/github/schauppi/Udemy_Tensorflow/blob/schauppi/Recurrent_Neural_Networks_Time_Series_and_Sequence_Data/Simple_RNN_SIN.ipynb\" target=\"_parent\"><img src=\"https://colab.research.google.com/assets/colab-badge.svg\" alt=\"Open In Colab\"/></a>"
      ]
    },
    {
      "cell_type": "code",
      "metadata": {
        "id": "pCHRXWzvNl5i"
      },
      "source": [
        "#Shape - N x T x D\n",
        "import tensorflow as tf\n",
        "from tensorflow import keras\n",
        "import numpy as np\n",
        "import matplotlib.pyplot as plt\n",
        "import pandas as pd\n",
        "from tensorflow import keras"
      ],
      "execution_count": 137,
      "outputs": []
    },
    {
      "cell_type": "code",
      "metadata": {
        "colab": {
          "base_uri": "https://localhost:8080/"
        },
        "id": "V2YdlrXIO-_g",
        "outputId": "79e8cdf9-cded-4a94-ebf0-442f7f628e83"
      },
      "source": [
        "print(tf.__version__)"
      ],
      "execution_count": 138,
      "outputs": [
        {
          "output_type": "stream",
          "text": [
            "2.4.1\n"
          ],
          "name": "stdout"
        }
      ]
    },
    {
      "cell_type": "code",
      "metadata": {
        "colab": {
          "base_uri": "https://localhost:8080/",
          "height": 282
        },
        "id": "zX0Q4yoRPIxV",
        "outputId": "56717c29-65f2-4d36-a1c3-0b09f8942453"
      },
      "source": [
        "#Create Data\n",
        "series = np.sin(0.1*np.arange(200)) + np.random.randn(200)*0.1\n",
        "plt.plot(series)"
      ],
      "execution_count": 139,
      "outputs": [
        {
          "output_type": "execute_result",
          "data": {
            "text/plain": [
              "[<matplotlib.lines.Line2D at 0x7f989e32e2d0>]"
            ]
          },
          "metadata": {
            "tags": []
          },
          "execution_count": 139
        },
        {
          "output_type": "display_data",
          "data": {
            "image/png": "[encoded data removed]",
            "text/plain": [
              "<Figure size 432x288 with 1 Axes>"
            ]
          },
          "metadata": {
            "tags": [],
            "needs_background": "light"
          }
        }
      ]
    },
    {
      "cell_type": "code",
      "metadata": {
        "colab": {
          "base_uri": "https://localhost:8080/"
        },
        "id": "pcIRt9erSkbO",
        "outputId": "8a5b431a-c8d3-47a0-e0e9-b5776461a5b2"
      },
      "source": [
        "T = 10 # 10 previous time steps to predict the next time step\n",
        "D = 1 # 1 numeric feature\n",
        "X = []# Using fixed size numpy arrays would probably be better\n",
        "Y = []\n",
        "\n",
        "for t in range(len(series) - T):\n",
        "  x = series[t:T+t]\n",
        "  X.append(x)\n",
        "  y = series[t+T]\n",
        "  Y.append(y)\n",
        "\n",
        "print(len(X))\n",
        "print(len(Y))"
      ],
      "execution_count": 140,
      "outputs": [
        {
          "output_type": "stream",
          "text": [
            "190\n",
            "190\n"
          ],
          "name": "stdout"
        }
      ]
    },
    {
      "cell_type": "code",
      "metadata": {
        "colab": {
          "base_uri": "https://localhost:8080/"
        },
        "id": "GLwckpfoUoNs",
        "outputId": "319652d4-4691-4fc1-91dd-7ae0a8e980b0"
      },
      "source": [
        "#convert to arrays\n",
        "X = np.array(X)\n",
        "Y = np.array(Y)\n",
        "\n",
        "print(X.shape)\n",
        "print(Y.shape)"
      ],
      "execution_count": 141,
      "outputs": [
        {
          "output_type": "stream",
          "text": [
            "(190, 10)\n",
            "(190,)\n"
          ],
          "name": "stdout"
        }
      ]
    },
    {
      "cell_type": "code",
      "metadata": {
        "colab": {
          "base_uri": "https://localhost:8080/"
        },
        "id": "XYNbT1DDWV5J",
        "outputId": "146ab714-ce4e-4551-a94c-9175dc24bf69"
      },
      "source": [
        "#Reshape Array\n",
        "#N x T x D\n",
        "X = X.reshape(-1, T, D)\n",
        "print(X.shape)\n",
        "\n",
        "N = len(X)\n",
        "print(N)"
      ],
      "execution_count": 142,
      "outputs": [
        {
          "output_type": "stream",
          "text": [
            "(190, 10, 1)\n",
            "190\n"
          ],
          "name": "stdout"
        }
      ]
    },
    {
      "cell_type": "code",
      "metadata": {
        "id": "4uiwirFsWjm7"
      },
      "source": [
        "#Split train and test set \n",
        "x_train = X[:N//2]\n",
        "x_test = X[N//2:]\n",
        "y_train = Y[:N//2]\n",
        "y_test = Y[N//2:]"
      ],
      "execution_count": 143,
      "outputs": []
    },
    {
      "cell_type": "code",
      "metadata": {
        "colab": {
          "base_uri": "https://localhost:8080/"
        },
        "id": "NS6tLlLVWtVj",
        "outputId": "2ac89e50-495d-4900-d63c-30be657a065d"
      },
      "source": [
        "print(x_train.shape)\n",
        "print(y_train.shape)\n",
        "print(x_test.shape)\n",
        "print(y_test.shape)"
      ],
      "execution_count": 144,
      "outputs": [
        {
          "output_type": "stream",
          "text": [
            "(95, 10, 1)\n",
            "(95,)\n",
            "(95, 10, 1)\n",
            "(95,)\n"
          ],
          "name": "stdout"
        }
      ]
    },
    {
      "cell_type": "code",
      "metadata": {
        "id": "Nrg1RbF1W8Di"
      },
      "source": [
        "#build the model \n",
        "i = keras.layers.Input(shape=(T, D))\n",
        "x = keras.layers.SimpleRNN(32, activation=\"relu\")(i)\n",
        "x = keras.layers.Dense(1)(x)\n",
        "\n",
        "model = keras.models.Model(i, x)\n",
        "\n",
        "model.compile(optimizer=\"Adam\", loss=\"mse\")"
      ],
      "execution_count": 145,
      "outputs": []
    },
    {
      "cell_type": "code",
      "metadata": {
        "colab": {
          "base_uri": "https://localhost:8080/"
        },
        "id": "cAYmc3K1ZKXT",
        "outputId": "0f83eb79-9144-402e-a3bc-644ab51e7728"
      },
      "source": [
        "model.summary()"
      ],
      "execution_count": 146,
      "outputs": [
        {
          "output_type": "stream",
          "text": [
            "Model: \"model_6\"\n",
            "_________________________________________________________________\n",
            "Layer (type)                 Output Shape              Param #   \n",
            "=================================================================\n",
            "input_8 (InputLayer)         [(None, 10, 1)]           0         \n",
            "_________________________________________________________________\n",
            "simple_rnn_6 (SimpleRNN)     (None, 32)                1088      \n",
            "_________________________________________________________________\n",
            "dense_6 (Dense)              (None, 1)                 33        \n",
            "=================================================================\n",
            "Total params: 1,121\n",
            "Trainable params: 1,121\n",
            "Non-trainable params: 0\n",
            "_________________________________________________________________\n"
          ],
          "name": "stdout"
        }
      ]
    },
    {
      "cell_type": "code",
      "metadata": {
        "colab": {
          "base_uri": "https://localhost:8080/"
        },
        "id": "FdfgVUJOZM9Z",
        "outputId": "c23e18e0-e7c0-4eb9-b73c-0818480ab261"
      },
      "source": [
        "history = model.fit(x_train, y_train, validation_data=(x_test, y_test), epochs=100) "
      ],
      "execution_count": 147,
      "outputs": [
        {
          "output_type": "stream",
          "text": [
            "Epoch 1/100\n",
            "3/3 [==============================] - 1s 104ms/step - loss: 0.6201 - val_loss: 0.4872\n",
            "Epoch 2/100\n",
            "3/3 [==============================] - 0s 25ms/step - loss: 0.5115 - val_loss: 0.4181\n",
            "Epoch 3/100\n",
            "3/3 [==============================] - 0s 25ms/step - loss: 0.4602 - val_loss: 0.3511\n",
            "Epoch 4/100\n",
            "3/3 [==============================] - 0s 23ms/step - loss: 0.3884 - val_loss: 0.2852\n",
            "Epoch 5/100\n",
            "3/3 [==============================] - 0s 24ms/step - loss: 0.3352 - val_loss: 0.2273\n",
            "Epoch 6/100\n",
            "3/3 [==============================] - 0s 23ms/step - loss: 0.2674 - val_loss: 0.1872\n",
            "Epoch 7/100\n",
            "3/3 [==============================] - 0s 24ms/step - loss: 0.2168 - val_loss: 0.1693\n",
            "Epoch 8/100\n",
            "3/3 [==============================] - 0s 23ms/step - loss: 0.1931 - val_loss: 0.1454\n",
            "Epoch 9/100\n",
            "3/3 [==============================] - 0s 23ms/step - loss: 0.1524 - val_loss: 0.1129\n",
            "Epoch 10/100\n",
            "3/3 [==============================] - 0s 26ms/step - loss: 0.1375 - val_loss: 0.0869\n",
            "Epoch 11/100\n",
            "3/3 [==============================] - 0s 22ms/step - loss: 0.1077 - val_loss: 0.0716\n",
            "Epoch 12/100\n",
            "3/3 [==============================] - 0s 24ms/step - loss: 0.0780 - val_loss: 0.0560\n",
            "Epoch 13/100\n",
            "3/3 [==============================] - 0s 25ms/step - loss: 0.0630 - val_loss: 0.0441\n",
            "Epoch 14/100\n",
            "3/3 [==============================] - 0s 23ms/step - loss: 0.0434 - val_loss: 0.0397\n",
            "Epoch 15/100\n",
            "3/3 [==============================] - 0s 26ms/step - loss: 0.0340 - val_loss: 0.0322\n",
            "Epoch 16/100\n",
            "3/3 [==============================] - 0s 23ms/step - loss: 0.0266 - val_loss: 0.0281\n",
            "Epoch 17/100\n",
            "3/3 [==============================] - 0s 27ms/step - loss: 0.0250 - val_loss: 0.0266\n",
            "Epoch 18/100\n",
            "3/3 [==============================] - 0s 26ms/step - loss: 0.0201 - val_loss: 0.0260\n",
            "Epoch 19/100\n",
            "3/3 [==============================] - 0s 24ms/step - loss: 0.0194 - val_loss: 0.0258\n",
            "Epoch 20/100\n",
            "3/3 [==============================] - 0s 23ms/step - loss: 0.0188 - val_loss: 0.0244\n",
            "Epoch 21/100\n",
            "3/3 [==============================] - 0s 25ms/step - loss: 0.0189 - val_loss: 0.0238\n",
            "Epoch 22/100\n",
            "3/3 [==============================] - 0s 25ms/step - loss: 0.0204 - val_loss: 0.0231\n",
            "Epoch 23/100\n",
            "3/3 [==============================] - 0s 24ms/step - loss: 0.0168 - val_loss: 0.0236\n",
            "Epoch 24/100\n",
            "3/3 [==============================] - 0s 24ms/step - loss: 0.0183 - val_loss: 0.0229\n",
            "Epoch 25/100\n",
            "3/3 [==============================] - 0s 23ms/step - loss: 0.0174 - val_loss: 0.0230\n",
            "Epoch 26/100\n",
            "3/3 [==============================] - 0s 22ms/step - loss: 0.0192 - val_loss: 0.0230\n",
            "Epoch 27/100\n",
            "3/3 [==============================] - 0s 23ms/step - loss: 0.0183 - val_loss: 0.0230\n",
            "Epoch 28/100\n",
            "3/3 [==============================] - 0s 24ms/step - loss: 0.0174 - val_loss: 0.0229\n",
            "Epoch 29/100\n",
            "3/3 [==============================] - 0s 26ms/step - loss: 0.0177 - val_loss: 0.0229\n",
            "Epoch 30/100\n",
            "3/3 [==============================] - 0s 26ms/step - loss: 0.0154 - val_loss: 0.0230\n",
            "Epoch 31/100\n",
            "3/3 [==============================] - 0s 22ms/step - loss: 0.0166 - val_loss: 0.0226\n",
            "Epoch 32/100\n",
            "3/3 [==============================] - 0s 24ms/step - loss: 0.0152 - val_loss: 0.0226\n",
            "Epoch 33/100\n",
            "3/3 [==============================] - 0s 24ms/step - loss: 0.0171 - val_loss: 0.0226\n",
            "Epoch 34/100\n",
            "3/3 [==============================] - 0s 28ms/step - loss: 0.0159 - val_loss: 0.0225\n",
            "Epoch 35/100\n",
            "3/3 [==============================] - 0s 25ms/step - loss: 0.0163 - val_loss: 0.0227\n",
            "Epoch 36/100\n",
            "3/3 [==============================] - 0s 24ms/step - loss: 0.0170 - val_loss: 0.0224\n",
            "Epoch 37/100\n",
            "3/3 [==============================] - 0s 23ms/step - loss: 0.0181 - val_loss: 0.0236\n",
            "Epoch 38/100\n",
            "3/3 [==============================] - 0s 23ms/step - loss: 0.0177 - val_loss: 0.0221\n",
            "Epoch 39/100\n",
            "3/3 [==============================] - 0s 23ms/step - loss: 0.0163 - val_loss: 0.0235\n",
            "Epoch 40/100\n",
            "3/3 [==============================] - 0s 22ms/step - loss: 0.0151 - val_loss: 0.0221\n",
            "Epoch 41/100\n",
            "3/3 [==============================] - 0s 23ms/step - loss: 0.0156 - val_loss: 0.0220\n",
            "Epoch 42/100\n",
            "3/3 [==============================] - 0s 23ms/step - loss: 0.0152 - val_loss: 0.0222\n",
            "Epoch 43/100\n",
            "3/3 [==============================] - 0s 22ms/step - loss: 0.0139 - val_loss: 0.0219\n",
            "Epoch 44/100\n",
            "3/3 [==============================] - 0s 24ms/step - loss: 0.0145 - val_loss: 0.0224\n",
            "Epoch 45/100\n",
            "3/3 [==============================] - 0s 22ms/step - loss: 0.0141 - val_loss: 0.0219\n",
            "Epoch 46/100\n",
            "3/3 [==============================] - 0s 24ms/step - loss: 0.0150 - val_loss: 0.0220\n",
            "Epoch 47/100\n",
            "3/3 [==============================] - 0s 23ms/step - loss: 0.0159 - val_loss: 0.0222\n",
            "Epoch 48/100\n",
            "3/3 [==============================] - 0s 23ms/step - loss: 0.0152 - val_loss: 0.0220\n",
            "Epoch 49/100\n",
            "3/3 [==============================] - 0s 24ms/step - loss: 0.0156 - val_loss: 0.0219\n",
            "Epoch 50/100\n",
            "3/3 [==============================] - 0s 23ms/step - loss: 0.0145 - val_loss: 0.0223\n",
            "Epoch 51/100\n",
            "3/3 [==============================] - 0s 26ms/step - loss: 0.0147 - val_loss: 0.0221\n",
            "Epoch 52/100\n",
            "3/3 [==============================] - 0s 22ms/step - loss: 0.0149 - val_loss: 0.0220\n",
            "Epoch 53/100\n",
            "3/3 [==============================] - 0s 21ms/step - loss: 0.0156 - val_loss: 0.0220\n",
            "Epoch 54/100\n",
            "3/3 [==============================] - 0s 23ms/step - loss: 0.0143 - val_loss: 0.0222\n",
            "Epoch 55/100\n",
            "3/3 [==============================] - 0s 22ms/step - loss: 0.0135 - val_loss: 0.0220\n",
            "Epoch 56/100\n",
            "3/3 [==============================] - 0s 25ms/step - loss: 0.0175 - val_loss: 0.0226\n",
            "Epoch 57/100\n",
            "3/3 [==============================] - 0s 24ms/step - loss: 0.0158 - val_loss: 0.0228\n",
            "Epoch 58/100\n",
            "3/3 [==============================] - 0s 26ms/step - loss: 0.0155 - val_loss: 0.0218\n",
            "Epoch 59/100\n",
            "3/3 [==============================] - 0s 23ms/step - loss: 0.0144 - val_loss: 0.0221\n",
            "Epoch 60/100\n",
            "3/3 [==============================] - 0s 23ms/step - loss: 0.0137 - val_loss: 0.0218\n",
            "Epoch 61/100\n",
            "3/3 [==============================] - 0s 24ms/step - loss: 0.0148 - val_loss: 0.0222\n",
            "Epoch 62/100\n",
            "3/3 [==============================] - 0s 23ms/step - loss: 0.0144 - val_loss: 0.0218\n",
            "Epoch 63/100\n",
            "3/3 [==============================] - 0s 24ms/step - loss: 0.0142 - val_loss: 0.0228\n",
            "Epoch 64/100\n",
            "3/3 [==============================] - 0s 25ms/step - loss: 0.0154 - val_loss: 0.0223\n",
            "Epoch 65/100\n",
            "3/3 [==============================] - 0s 21ms/step - loss: 0.0150 - val_loss: 0.0220\n",
            "Epoch 66/100\n",
            "3/3 [==============================] - 0s 24ms/step - loss: 0.0146 - val_loss: 0.0223\n",
            "Epoch 67/100\n",
            "3/3 [==============================] - 0s 22ms/step - loss: 0.0145 - val_loss: 0.0219\n",
            "Epoch 68/100\n",
            "3/3 [==============================] - 0s 24ms/step - loss: 0.0149 - val_loss: 0.0219\n",
            "Epoch 69/100\n",
            "3/3 [==============================] - 0s 22ms/step - loss: 0.0141 - val_loss: 0.0218\n",
            "Epoch 70/100\n",
            "3/3 [==============================] - 0s 24ms/step - loss: 0.0134 - val_loss: 0.0219\n",
            "Epoch 71/100\n",
            "3/3 [==============================] - 0s 25ms/step - loss: 0.0151 - val_loss: 0.0218\n",
            "Epoch 72/100\n",
            "3/3 [==============================] - 0s 27ms/step - loss: 0.0136 - val_loss: 0.0221\n",
            "Epoch 73/100\n",
            "3/3 [==============================] - 0s 23ms/step - loss: 0.0162 - val_loss: 0.0218\n",
            "Epoch 74/100\n",
            "3/3 [==============================] - 0s 23ms/step - loss: 0.0132 - val_loss: 0.0220\n",
            "Epoch 75/100\n",
            "3/3 [==============================] - 0s 23ms/step - loss: 0.0156 - val_loss: 0.0221\n",
            "Epoch 76/100\n",
            "3/3 [==============================] - 0s 23ms/step - loss: 0.0154 - val_loss: 0.0220\n",
            "Epoch 77/100\n",
            "3/3 [==============================] - 0s 23ms/step - loss: 0.0127 - val_loss: 0.0237\n",
            "Epoch 78/100\n",
            "3/3 [==============================] - 0s 24ms/step - loss: 0.0144 - val_loss: 0.0219\n",
            "Epoch 79/100\n",
            "3/3 [==============================] - 0s 25ms/step - loss: 0.0151 - val_loss: 0.0230\n",
            "Epoch 80/100\n",
            "3/3 [==============================] - 0s 24ms/step - loss: 0.0146 - val_loss: 0.0232\n",
            "Epoch 81/100\n",
            "3/3 [==============================] - 0s 23ms/step - loss: 0.0147 - val_loss: 0.0221\n",
            "Epoch 82/100\n",
            "3/3 [==============================] - 0s 23ms/step - loss: 0.0155 - val_loss: 0.0231\n",
            "Epoch 83/100\n",
            "3/3 [==============================] - 0s 25ms/step - loss: 0.0182 - val_loss: 0.0219\n",
            "Epoch 84/100\n",
            "3/3 [==============================] - 0s 25ms/step - loss: 0.0137 - val_loss: 0.0218\n",
            "Epoch 85/100\n",
            "3/3 [==============================] - 0s 27ms/step - loss: 0.0134 - val_loss: 0.0220\n",
            "Epoch 86/100\n",
            "3/3 [==============================] - 0s 23ms/step - loss: 0.0128 - val_loss: 0.0221\n",
            "Epoch 87/100\n",
            "3/3 [==============================] - 0s 23ms/step - loss: 0.0139 - val_loss: 0.0223\n",
            "Epoch 88/100\n",
            "3/3 [==============================] - 0s 26ms/step - loss: 0.0158 - val_loss: 0.0220\n",
            "Epoch 89/100\n",
            "3/3 [==============================] - 0s 25ms/step - loss: 0.0136 - val_loss: 0.0218\n",
            "Epoch 90/100\n",
            "3/3 [==============================] - 0s 26ms/step - loss: 0.0136 - val_loss: 0.0218\n",
            "Epoch 91/100\n",
            "3/3 [==============================] - 0s 26ms/step - loss: 0.0146 - val_loss: 0.0220\n",
            "Epoch 92/100\n",
            "3/3 [==============================] - 0s 24ms/step - loss: 0.0137 - val_loss: 0.0218\n",
            "Epoch 93/100\n",
            "3/3 [==============================] - 0s 27ms/step - loss: 0.0145 - val_loss: 0.0226\n",
            "Epoch 94/100\n",
            "3/3 [==============================] - 0s 26ms/step - loss: 0.0143 - val_loss: 0.0220\n",
            "Epoch 95/100\n",
            "3/3 [==============================] - 0s 26ms/step - loss: 0.0152 - val_loss: 0.0217\n",
            "Epoch 96/100\n",
            "3/3 [==============================] - 0s 24ms/step - loss: 0.0128 - val_loss: 0.0218\n",
            "Epoch 97/100\n",
            "3/3 [==============================] - 0s 22ms/step - loss: 0.0130 - val_loss: 0.0219\n",
            "Epoch 98/100\n",
            "3/3 [==============================] - 0s 26ms/step - loss: 0.0127 - val_loss: 0.0227\n",
            "Epoch 99/100\n",
            "3/3 [==============================] - 0s 27ms/step - loss: 0.0123 - val_loss: 0.0217\n",
            "Epoch 100/100\n",
            "3/3 [==============================] - 0s 25ms/step - loss: 0.0138 - val_loss: 0.0234\n"
          ],
          "name": "stdout"
        }
      ]
    },
    {
      "cell_type": "code",
      "metadata": {
        "colab": {
          "base_uri": "https://localhost:8080/",
          "height": 282
        },
        "id": "LGBJ4J-WZZLR",
        "outputId": "8b3cc248-762d-41d4-f20b-3304742f45eb"
      },
      "source": [
        "#plot the loss\n",
        "loss = history.history[\"loss\"]\n",
        "val_loss = history.history[\"val_loss\"]\n",
        "\n",
        "plt.plot(loss, label=\"loss\")\n",
        "plt.plot(val_loss, label=\"val_loss\")\n",
        "plt.legend()"
      ],
      "execution_count": 148,
      "outputs": [
        {
          "output_type": "execute_result",
          "data": {
            "text/plain": [
              "<matplotlib.legend.Legend at 0x7f98c0265cd0>"
            ]
          },
          "metadata": {
            "tags": []
          },
          "execution_count": 148
        },
        {
          "output_type": "display_data",
          "data": {
            "image/png": "[encoded data removed]",
            "text/plain": [
              "<Figure size 432x288 with 1 Axes>"
            ]
          },
          "metadata": {
            "tags": [],
            "needs_background": "light"
          }
        }
      ]
    },
    {
      "cell_type": "code",
      "metadata": {
        "id": "W_g6yXmYZtvr"
      },
      "source": [
        "#multi step forecast\n",
        "\n",
        "predictions_test = []\n",
        "\n",
        "#last train input\n",
        "x_last = X[N//2]"
      ],
      "execution_count": 149,
      "outputs": []
    },
    {
      "cell_type": "code",
      "metadata": {
        "id": "jL0aCRqtkaOl"
      },
      "source": [
        "while (len(predictions_test) < len(y_test[-N//2:])):\n",
        "  #reshape array and select first index in array\n",
        "  pred = model.predict(x_last.reshape(1, -1, 1))[0, 0]\n",
        "\n",
        "  predictions_test.append(pred)\n",
        "\n",
        "  #shift last element to the left \n",
        "  x_last = np.roll(x_last, -1)\n",
        "  #new input\n",
        "  x_last[-1] = pred"
      ],
      "execution_count": 150,
      "outputs": []
    },
    {
      "cell_type": "code",
      "metadata": {
        "colab": {
          "base_uri": "https://localhost:8080/",
          "height": 282
        },
        "id": "lECufWE_mcgB",
        "outputId": "2cfcac13-6c58-4f1a-d7e0-072337cb1e23"
      },
      "source": [
        "plt.plot(y_test, label=\"forecast target\")\n",
        "plt.plot(predictions_test, label=\"forecast prediction\")\n",
        "plt.legend()"
      ],
      "execution_count": 151,
      "outputs": [
        {
          "output_type": "execute_result",
          "data": {
            "text/plain": [
              "<matplotlib.legend.Legend at 0x7f98c0333250>"
            ]
          },
          "metadata": {
            "tags": []
          },
          "execution_count": 151
        },
        {
          "output_type": "display_data",
          "data": {
            "image/png": "[encoded data removed]",
            "text/plain": [
              "<Figure size 432x288 with 1 Axes>"
            ]
          },
          "metadata": {
            "tags": [],
            "needs_background": "light"
          }
        }
      ]
    },
    {
      "cell_type": "code",
      "metadata": {
        "id": "_Q_HNWh9sEGp"
      },
      "source": [
        ""
      ],
      "execution_count": 151,
      "outputs": []
    }
  ]
}